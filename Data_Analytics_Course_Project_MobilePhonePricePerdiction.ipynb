{
  "nbformat": 4,
  "nbformat_minor": 0,
  "metadata": {
    "colab": {
      "provenance": [],
      "collapsed_sections": [],
      "include_colab_link": true
    },
    "kernelspec": {
      "name": "python3",
      "display_name": "Python 3"
    },
    "language_info": {
      "name": "python"
    }
  },
  "cells": [
    {
      "cell_type": "markdown",
      "metadata": {
        "id": "view-in-github",
        "colab_type": "text"
      },
      "source": [
        "<a href=\"https://colab.research.google.com/github/nurulhidayah1983/Testing/blob/main/Data_Analytics_Course_Project_MobilePhonePricePerdiction.ipynb\" target=\"_parent\"><img src=\"https://colab.research.google.com/assets/colab-badge.svg\" alt=\"Open In Colab\"/></a>"
      ]
    },
    {
      "cell_type": "markdown",
      "source": [
        "Group Name: H-H<br>\n",
        "Team Members: <br>\n",
        "1) Nurul Hidayah Abdul Rashid <br>\n",
        "2) Nurul Huda Tendot Binti Zakaria\n",
        "# Data Analytics Course Project:MobilePhonePricePerdiction\n",
        "\n",
        "\n",
        "About Dataset: This data set contains phone specification information such as battery_power,int_memory, wifi, ram, price_range, among other things.<br>\n",
        "\n",
        "Steps :\n",
        "\n",
        "1.Import the data:\n",
        "# Mobile Phone Price Perdiction\n",
        "\n",
        "```\n",
        "# This is formatted as code\n",
        "```\n",
        "# 2.Check labelled /unlabelled ,find the target column,target (numerical or \n",
        "categoical),Regression or classification algthm\"\"Data Exploaration(shape,describe,columns,info)\"\n",
        "```\n",
        "# This is formatted as code\n",
        "```\n",
        "\n",
        "3.Missing values\n",
        "\n",
        "\n",
        "Inconsistent Values\n",
        "Outliers\n",
        "Data types consistent\n",
        "Duplicate\n",
        "check Dataset balanced/imblanced\n",
        "Data cleaning \n",
        "\n",
        "Visualization ( Explore my datasets by charts)\n",
        "\n",
        "\"Feature Engineering (Feature Importance,convert categorical data by using encoding,Feature Scaling(Normalization)>>Apply the oversampling& undersampling codes\"\n",
        "\n",
        "Split the data train and test\n",
        "\n",
        "Create the model\n",
        "\n",
        "Apply the model to the train data \n",
        "\n",
        "Trained model is ready\n",
        "\n",
        "Test the trained model by the test data\n",
        "\n",
        "Print the evaluation metrics\n",
        "\"(regress=MSE,MAE,R2)\""
      ],
      "metadata": {
        "id": "U9N4UGUlbhFf"
      }
    },
    {
      "cell_type": "markdown",
      "source": [
        "## Data Analytics Course Project:MobilePhonePricePerdiction\n",
        "## Steps 1:Import the data:\n",
        "\n",
        "Mobile Phone Price Perdiction"
      ],
      "metadata": {
        "id": "Ded3xGu3gELF"
      }
    },
    {
      "cell_type": "code",
      "source": [
        "# read data into a DataFrame\n",
        "\n",
        "import pandas as pd\n",
        "import numpy as np\n",
        "import matplotlib.pyplot as plt\n",
        "import seaborn as sns\n",
        "\n",
        "data = pd.read_csv('/content/train.csv',)\n",
        "data.head()\n",
        "\n",
        "#Check the Data set is labelled /unlabelled\n"
      ],
      "metadata": {
        "colab": {
          "base_uri": "https://localhost:8080/",
          "height": 299
        },
        "id": "E7HY26Pme5gY",
        "outputId": "3733b4bd-4771-450d-91aa-a8995f4c2093"
      },
      "execution_count": null,
      "outputs": [
        {
          "output_type": "execute_result",
          "data": {
            "text/plain": [
              "   battery_power  blue  clock_speed  dual_sim  fc  four_g  int_memory  m_dep  \\\n",
              "0            842     0          2.2         0   1       0           7    0.6   \n",
              "1           1021     1          0.5         1   0       1          53    0.7   \n",
              "2            563     1          0.5         1   2       1          41    0.9   \n",
              "3            615     1          2.5         0   0       0          10    0.8   \n",
              "4           1821     1          1.2         0  13       1          44    0.6   \n",
              "\n",
              "   mobile_wt  n_cores  ...  px_height  px_width   ram  sc_h  sc_w  talk_time  \\\n",
              "0        188        2  ...         20       756  2549     9     7         19   \n",
              "1        136        3  ...        905      1988  2631    17     3          7   \n",
              "2        145        5  ...       1263      1716  2603    11     2          9   \n",
              "3        131        6  ...       1216      1786  2769    16     8         11   \n",
              "4        141        2  ...       1208      1212  1411     8     2         15   \n",
              "\n",
              "   three_g  touch_screen  wifi  price_range  \n",
              "0        0             0     1            1  \n",
              "1        1             1     0            2  \n",
              "2        1             1     0            2  \n",
              "3        1             0     0            2  \n",
              "4        1             1     0            1  \n",
              "\n",
              "[5 rows x 21 columns]"
            ],
            "text/html": [
              "\n",
              "  <div id=\"df-ee726723-a6a9-4472-abaa-80d1c1f7e44d\">\n",
              "    <div class=\"colab-df-container\">\n",
              "      <div>\n",
              "<style scoped>\n",
              "    .dataframe tbody tr th:only-of-type {\n",
              "        vertical-align: middle;\n",
              "    }\n",
              "\n",
              "    .dataframe tbody tr th {\n",
              "        vertical-align: top;\n",
              "    }\n",
              "\n",
              "    .dataframe thead th {\n",
              "        text-align: right;\n",
              "    }\n",
              "</style>\n",
              "<table border=\"1\" class=\"dataframe\">\n",
              "  <thead>\n",
              "    <tr style=\"text-align: right;\">\n",
              "      <th></th>\n",
              "      <th>battery_power</th>\n",
              "      <th>blue</th>\n",
              "      <th>clock_speed</th>\n",
              "      <th>dual_sim</th>\n",
              "      <th>fc</th>\n",
              "      <th>four_g</th>\n",
              "      <th>int_memory</th>\n",
              "      <th>m_dep</th>\n",
              "      <th>mobile_wt</th>\n",
              "      <th>n_cores</th>\n",
              "      <th>...</th>\n",
              "      <th>px_height</th>\n",
              "      <th>px_width</th>\n",
              "      <th>ram</th>\n",
              "      <th>sc_h</th>\n",
              "      <th>sc_w</th>\n",
              "      <th>talk_time</th>\n",
              "      <th>three_g</th>\n",
              "      <th>touch_screen</th>\n",
              "      <th>wifi</th>\n",
              "      <th>price_range</th>\n",
              "    </tr>\n",
              "  </thead>\n",
              "  <tbody>\n",
              "    <tr>\n",
              "      <th>0</th>\n",
              "      <td>842</td>\n",
              "      <td>0</td>\n",
              "      <td>2.2</td>\n",
              "      <td>0</td>\n",
              "      <td>1</td>\n",
              "      <td>0</td>\n",
              "      <td>7</td>\n",
              "      <td>0.6</td>\n",
              "      <td>188</td>\n",
              "      <td>2</td>\n",
              "      <td>...</td>\n",
              "      <td>20</td>\n",
              "      <td>756</td>\n",
              "      <td>2549</td>\n",
              "      <td>9</td>\n",
              "      <td>7</td>\n",
              "      <td>19</td>\n",
              "      <td>0</td>\n",
              "      <td>0</td>\n",
              "      <td>1</td>\n",
              "      <td>1</td>\n",
              "    </tr>\n",
              "    <tr>\n",
              "      <th>1</th>\n",
              "      <td>1021</td>\n",
              "      <td>1</td>\n",
              "      <td>0.5</td>\n",
              "      <td>1</td>\n",
              "      <td>0</td>\n",
              "      <td>1</td>\n",
              "      <td>53</td>\n",
              "      <td>0.7</td>\n",
              "      <td>136</td>\n",
              "      <td>3</td>\n",
              "      <td>...</td>\n",
              "      <td>905</td>\n",
              "      <td>1988</td>\n",
              "      <td>2631</td>\n",
              "      <td>17</td>\n",
              "      <td>3</td>\n",
              "      <td>7</td>\n",
              "      <td>1</td>\n",
              "      <td>1</td>\n",
              "      <td>0</td>\n",
              "      <td>2</td>\n",
              "    </tr>\n",
              "    <tr>\n",
              "      <th>2</th>\n",
              "      <td>563</td>\n",
              "      <td>1</td>\n",
              "      <td>0.5</td>\n",
              "      <td>1</td>\n",
              "      <td>2</td>\n",
              "      <td>1</td>\n",
              "      <td>41</td>\n",
              "      <td>0.9</td>\n",
              "      <td>145</td>\n",
              "      <td>5</td>\n",
              "      <td>...</td>\n",
              "      <td>1263</td>\n",
              "      <td>1716</td>\n",
              "      <td>2603</td>\n",
              "      <td>11</td>\n",
              "      <td>2</td>\n",
              "      <td>9</td>\n",
              "      <td>1</td>\n",
              "      <td>1</td>\n",
              "      <td>0</td>\n",
              "      <td>2</td>\n",
              "    </tr>\n",
              "    <tr>\n",
              "      <th>3</th>\n",
              "      <td>615</td>\n",
              "      <td>1</td>\n",
              "      <td>2.5</td>\n",
              "      <td>0</td>\n",
              "      <td>0</td>\n",
              "      <td>0</td>\n",
              "      <td>10</td>\n",
              "      <td>0.8</td>\n",
              "      <td>131</td>\n",
              "      <td>6</td>\n",
              "      <td>...</td>\n",
              "      <td>1216</td>\n",
              "      <td>1786</td>\n",
              "      <td>2769</td>\n",
              "      <td>16</td>\n",
              "      <td>8</td>\n",
              "      <td>11</td>\n",
              "      <td>1</td>\n",
              "      <td>0</td>\n",
              "      <td>0</td>\n",
              "      <td>2</td>\n",
              "    </tr>\n",
              "    <tr>\n",
              "      <th>4</th>\n",
              "      <td>1821</td>\n",
              "      <td>1</td>\n",
              "      <td>1.2</td>\n",
              "      <td>0</td>\n",
              "      <td>13</td>\n",
              "      <td>1</td>\n",
              "      <td>44</td>\n",
              "      <td>0.6</td>\n",
              "      <td>141</td>\n",
              "      <td>2</td>\n",
              "      <td>...</td>\n",
              "      <td>1208</td>\n",
              "      <td>1212</td>\n",
              "      <td>1411</td>\n",
              "      <td>8</td>\n",
              "      <td>2</td>\n",
              "      <td>15</td>\n",
              "      <td>1</td>\n",
              "      <td>1</td>\n",
              "      <td>0</td>\n",
              "      <td>1</td>\n",
              "    </tr>\n",
              "  </tbody>\n",
              "</table>\n",
              "<p>5 rows × 21 columns</p>\n",
              "</div>\n",
              "      <button class=\"colab-df-convert\" onclick=\"convertToInteractive('df-ee726723-a6a9-4472-abaa-80d1c1f7e44d')\"\n",
              "              title=\"Convert this dataframe to an interactive table.\"\n",
              "              style=\"display:none;\">\n",
              "        \n",
              "  <svg xmlns=\"http://www.w3.org/2000/svg\" height=\"24px\"viewBox=\"0 0 24 24\"\n",
              "       width=\"24px\">\n",
              "    <path d=\"M0 0h24v24H0V0z\" fill=\"none\"/>\n",
              "    <path d=\"M18.56 5.44l.94 2.06.94-2.06 2.06-.94-2.06-.94-.94-2.06-.94 2.06-2.06.94zm-11 1L8.5 8.5l.94-2.06 2.06-.94-2.06-.94L8.5 2.5l-.94 2.06-2.06.94zm10 10l.94 2.06.94-2.06 2.06-.94-2.06-.94-.94-2.06-.94 2.06-2.06.94z\"/><path d=\"M17.41 7.96l-1.37-1.37c-.4-.4-.92-.59-1.43-.59-.52 0-1.04.2-1.43.59L10.3 9.45l-7.72 7.72c-.78.78-.78 2.05 0 2.83L4 21.41c.39.39.9.59 1.41.59.51 0 1.02-.2 1.41-.59l7.78-7.78 2.81-2.81c.8-.78.8-2.07 0-2.86zM5.41 20L4 18.59l7.72-7.72 1.47 1.35L5.41 20z\"/>\n",
              "  </svg>\n",
              "      </button>\n",
              "      \n",
              "  <style>\n",
              "    .colab-df-container {\n",
              "      display:flex;\n",
              "      flex-wrap:wrap;\n",
              "      gap: 12px;\n",
              "    }\n",
              "\n",
              "    .colab-df-convert {\n",
              "      background-color: #E8F0FE;\n",
              "      border: none;\n",
              "      border-radius: 50%;\n",
              "      cursor: pointer;\n",
              "      display: none;\n",
              "      fill: #1967D2;\n",
              "      height: 32px;\n",
              "      padding: 0 0 0 0;\n",
              "      width: 32px;\n",
              "    }\n",
              "\n",
              "    .colab-df-convert:hover {\n",
              "      background-color: #E2EBFA;\n",
              "      box-shadow: 0px 1px 2px rgba(60, 64, 67, 0.3), 0px 1px 3px 1px rgba(60, 64, 67, 0.15);\n",
              "      fill: #174EA6;\n",
              "    }\n",
              "\n",
              "    [theme=dark] .colab-df-convert {\n",
              "      background-color: #3B4455;\n",
              "      fill: #D2E3FC;\n",
              "    }\n",
              "\n",
              "    [theme=dark] .colab-df-convert:hover {\n",
              "      background-color: #434B5C;\n",
              "      box-shadow: 0px 1px 3px 1px rgba(0, 0, 0, 0.15);\n",
              "      filter: drop-shadow(0px 1px 2px rgba(0, 0, 0, 0.3));\n",
              "      fill: #FFFFFF;\n",
              "    }\n",
              "  </style>\n",
              "\n",
              "      <script>\n",
              "        const buttonEl =\n",
              "          document.querySelector('#df-ee726723-a6a9-4472-abaa-80d1c1f7e44d button.colab-df-convert');\n",
              "        buttonEl.style.display =\n",
              "          google.colab.kernel.accessAllowed ? 'block' : 'none';\n",
              "\n",
              "        async function convertToInteractive(key) {\n",
              "          const element = document.querySelector('#df-ee726723-a6a9-4472-abaa-80d1c1f7e44d');\n",
              "          const dataTable =\n",
              "            await google.colab.kernel.invokeFunction('convertToInteractive',\n",
              "                                                     [key], {});\n",
              "          if (!dataTable) return;\n",
              "\n",
              "          const docLinkHtml = 'Like what you see? Visit the ' +\n",
              "            '<a target=\"_blank\" href=https://colab.research.google.com/notebooks/data_table.ipynb>data table notebook</a>'\n",
              "            + ' to learn more about interactive tables.';\n",
              "          element.innerHTML = '';\n",
              "          dataTable['output_type'] = 'display_data';\n",
              "          await google.colab.output.renderOutput(dataTable, element);\n",
              "          const docLink = document.createElement('div');\n",
              "          docLink.innerHTML = docLinkHtml;\n",
              "          element.appendChild(docLink);\n",
              "        }\n",
              "      </script>\n",
              "    </div>\n",
              "  </div>\n",
              "  "
            ]
          },
          "metadata": {},
          "execution_count": 13
        }
      ]
    },
    {
      "cell_type": "markdown",
      "source": [
        "# Step 2.Find the target column\n",
        "*  Price_Range  is the target because the column is dependent variable towards the others columns.\n",
        "*  It is a Classification algorthm not regression due to the target is categorical variable(Either Cat 1 /Cat 2)\n",
        "*   It is a Machine Learning Supervised because of it is a labelled data.\n",
        "\n"
      ],
      "metadata": {
        "id": "_KtTorFmM7qI"
      }
    },
    {
      "cell_type": "markdown",
      "source": [
        "\n",
        "## Step 3. Data Pre-processing\n",
        "Missing values\n",
        "\n",
        "1.Missing values\n",
        "2.Inconsistent Values\n",
        "3.Outliers Data types\n",
        "4.Duplicate check\n",
        "\n",
        "\n",
        "Check:Dataset balanced/imblanced Data cleaning\n"
      ],
      "metadata": {
        "id": "zElc-IKXUJpt"
      }
    },
    {
      "cell_type": "code",
      "source": [
        "#Check Missing Values\n",
        "\n",
        "data.isna().sum()"
      ],
      "metadata": {
        "colab": {
          "base_uri": "https://localhost:8080/"
        },
        "id": "k8GDhpDRU95a",
        "outputId": "abcb36f3-a3ec-419e-fc61-0ee3e0947844"
      },
      "execution_count": null,
      "outputs": [
        {
          "output_type": "execute_result",
          "data": {
            "text/plain": [
              "battery_power    0\n",
              "blue             0\n",
              "clock_speed      0\n",
              "dual_sim         0\n",
              "fc               0\n",
              "four_g           0\n",
              "int_memory       0\n",
              "m_dep            0\n",
              "mobile_wt        0\n",
              "n_cores          0\n",
              "pc               0\n",
              "px_height        0\n",
              "px_width         0\n",
              "ram              0\n",
              "sc_h             0\n",
              "sc_w             0\n",
              "talk_time        0\n",
              "three_g          0\n",
              "touch_screen     0\n",
              "wifi             0\n",
              "price_range      0\n",
              "dtype: int64"
            ]
          },
          "metadata": {},
          "execution_count": 14
        }
      ]
    },
    {
      "cell_type": "markdown",
      "source": [
        "Conclusion: The dataset does not have missing values"
      ],
      "metadata": {
        "id": "UT3DMetDbsQI"
      }
    },
    {
      "cell_type": "code",
      "source": [
        "#Inconsistent Values\n",
        "\n",
        "\n"
      ],
      "metadata": {
        "id": "qi2FNXI7VJfV"
      },
      "execution_count": null,
      "outputs": []
    },
    {
      "cell_type": "code",
      "source": [
        "data.columns"
      ],
      "metadata": {
        "colab": {
          "base_uri": "https://localhost:8080/"
        },
        "id": "tf6NNHnBYYz8",
        "outputId": "34e2423d-f698-468c-fac7-c747e8b01573"
      },
      "execution_count": null,
      "outputs": [
        {
          "output_type": "execute_result",
          "data": {
            "text/plain": [
              "Index(['battery_power', 'blue', 'clock_speed', 'dual_sim', 'fc', 'four_g',\n",
              "       'int_memory', 'm_dep', 'mobile_wt', 'n_cores', 'pc', 'px_height',\n",
              "       'px_width', 'ram', 'sc_h', 'sc_w', 'talk_time', 'three_g',\n",
              "       'touch_screen', 'wifi', 'price_range'],\n",
              "      dtype='object')"
            ]
          },
          "metadata": {},
          "execution_count": 16
        }
      ]
    },
    {
      "cell_type": "code",
      "source": [
        "#Outliers Data types>>#If no dots,means no outliers.\n",
        "\n",
        "fig, axs = plt.subplots(22, figsize = (10,25))\n",
        "colors = ['#0000FF', '#00FF00',\n",
        "          '#FFFF00', '#FF00FF']\n",
        "\n",
        "\n",
        "plt1 = sns.boxplot(data['battery_power'], ax = axs[0])\n",
        "plt2 = sns.boxplot(data['blue'], ax = axs[1])\n",
        "plt3 = sns.boxplot(data['clock_speed'], ax = axs[2])\n",
        "plt4 = sns.boxplot(data['dual_sim'], ax = axs[3])\n",
        "plt5 = sns.boxplot(data['fc'], ax = axs[4])\n",
        "plt6 = sns.boxplot(data['four_g'], ax = axs[5])\n",
        "plt7 = sns.boxplot(data['int_memory'], ax = axs[6])\n",
        "plt8 = sns.boxplot(data['m_dep'], ax = axs[7])\n",
        "plt9 = sns.boxplot(data['mobile_wt'], ax = axs[8])\n",
        "plt10 = sns.boxplot(data['n_cores'], ax = axs[9])\n",
        "plt11 = sns.boxplot(data['pc'], ax = axs[10])\n",
        "plt12 = sns.boxplot(data['px_height'], ax = axs[11])\n",
        "plt13 = sns.boxplot(data['px_width'], ax = axs[12])\n",
        "plt14 = sns.boxplot(data['ram'], ax = axs[13])\n",
        "plt15 = sns.boxplot(data['four_g'], ax = axs[14])\n",
        "plt16 = sns.boxplot(data['int_memory'], ax = axs[15])\n",
        "plt17 = sns.boxplot(data['sc_h'], ax = axs[16])\n",
        "plt18 = sns.boxplot(data['talk_time'], ax = axs[17])\n",
        "plt19= sns.boxplot(data['three_g'], ax = axs[18])\n",
        "plt20 = sns.boxplot(data['touch_screen'], ax = axs[19])\n",
        "plt21 = sns.boxplot(data['wifi'], ax = axs[20])\n",
        "plt22 = sns.boxplot(data['price_range'], ax = axs[21])\n",
        "\n",
        "plt.tight_layout()\n",
        "\n",
        "\n",
        "\n",
        "\n",
        "\n"
      ],
      "metadata": {
        "colab": {
          "base_uri": "https://localhost:8080/",
          "height": 1000
        },
        "id": "L-WLHYeoWOOv",
        "outputId": "b2c24dd7-9767-48fb-aa42-a84b091761ea"
      },
      "execution_count": null,
      "outputs": [
        {
          "output_type": "stream",
          "name": "stderr",
          "text": [
            "/usr/local/lib/python3.7/dist-packages/seaborn/_decorators.py:43: FutureWarning: Pass the following variable as a keyword arg: x. From version 0.12, the only valid positional argument will be `data`, and passing other arguments without an explicit keyword will result in an error or misinterpretation.\n",
            "  FutureWarning\n",
            "/usr/local/lib/python3.7/dist-packages/seaborn/_decorators.py:43: FutureWarning: Pass the following variable as a keyword arg: x. From version 0.12, the only valid positional argument will be `data`, and passing other arguments without an explicit keyword will result in an error or misinterpretation.\n",
            "  FutureWarning\n",
            "/usr/local/lib/python3.7/dist-packages/seaborn/_decorators.py:43: FutureWarning: Pass the following variable as a keyword arg: x. From version 0.12, the only valid positional argument will be `data`, and passing other arguments without an explicit keyword will result in an error or misinterpretation.\n",
            "  FutureWarning\n",
            "/usr/local/lib/python3.7/dist-packages/seaborn/_decorators.py:43: FutureWarning: Pass the following variable as a keyword arg: x. From version 0.12, the only valid positional argument will be `data`, and passing other arguments without an explicit keyword will result in an error or misinterpretation.\n",
            "  FutureWarning\n",
            "/usr/local/lib/python3.7/dist-packages/seaborn/_decorators.py:43: FutureWarning: Pass the following variable as a keyword arg: x. From version 0.12, the only valid positional argument will be `data`, and passing other arguments without an explicit keyword will result in an error or misinterpretation.\n",
            "  FutureWarning\n",
            "/usr/local/lib/python3.7/dist-packages/seaborn/_decorators.py:43: FutureWarning: Pass the following variable as a keyword arg: x. From version 0.12, the only valid positional argument will be `data`, and passing other arguments without an explicit keyword will result in an error or misinterpretation.\n",
            "  FutureWarning\n",
            "/usr/local/lib/python3.7/dist-packages/seaborn/_decorators.py:43: FutureWarning: Pass the following variable as a keyword arg: x. From version 0.12, the only valid positional argument will be `data`, and passing other arguments without an explicit keyword will result in an error or misinterpretation.\n",
            "  FutureWarning\n",
            "/usr/local/lib/python3.7/dist-packages/seaborn/_decorators.py:43: FutureWarning: Pass the following variable as a keyword arg: x. From version 0.12, the only valid positional argument will be `data`, and passing other arguments without an explicit keyword will result in an error or misinterpretation.\n",
            "  FutureWarning\n",
            "/usr/local/lib/python3.7/dist-packages/seaborn/_decorators.py:43: FutureWarning: Pass the following variable as a keyword arg: x. From version 0.12, the only valid positional argument will be `data`, and passing other arguments without an explicit keyword will result in an error or misinterpretation.\n",
            "  FutureWarning\n",
            "/usr/local/lib/python3.7/dist-packages/seaborn/_decorators.py:43: FutureWarning: Pass the following variable as a keyword arg: x. From version 0.12, the only valid positional argument will be `data`, and passing other arguments without an explicit keyword will result in an error or misinterpretation.\n",
            "  FutureWarning\n",
            "/usr/local/lib/python3.7/dist-packages/seaborn/_decorators.py:43: FutureWarning: Pass the following variable as a keyword arg: x. From version 0.12, the only valid positional argument will be `data`, and passing other arguments without an explicit keyword will result in an error or misinterpretation.\n",
            "  FutureWarning\n",
            "/usr/local/lib/python3.7/dist-packages/seaborn/_decorators.py:43: FutureWarning: Pass the following variable as a keyword arg: x. From version 0.12, the only valid positional argument will be `data`, and passing other arguments without an explicit keyword will result in an error or misinterpretation.\n",
            "  FutureWarning\n",
            "/usr/local/lib/python3.7/dist-packages/seaborn/_decorators.py:43: FutureWarning: Pass the following variable as a keyword arg: x. From version 0.12, the only valid positional argument will be `data`, and passing other arguments without an explicit keyword will result in an error or misinterpretation.\n",
            "  FutureWarning\n",
            "/usr/local/lib/python3.7/dist-packages/seaborn/_decorators.py:43: FutureWarning: Pass the following variable as a keyword arg: x. From version 0.12, the only valid positional argument will be `data`, and passing other arguments without an explicit keyword will result in an error or misinterpretation.\n",
            "  FutureWarning\n",
            "/usr/local/lib/python3.7/dist-packages/seaborn/_decorators.py:43: FutureWarning: Pass the following variable as a keyword arg: x. From version 0.12, the only valid positional argument will be `data`, and passing other arguments without an explicit keyword will result in an error or misinterpretation.\n",
            "  FutureWarning\n",
            "/usr/local/lib/python3.7/dist-packages/seaborn/_decorators.py:43: FutureWarning: Pass the following variable as a keyword arg: x. From version 0.12, the only valid positional argument will be `data`, and passing other arguments without an explicit keyword will result in an error or misinterpretation.\n",
            "  FutureWarning\n",
            "/usr/local/lib/python3.7/dist-packages/seaborn/_decorators.py:43: FutureWarning: Pass the following variable as a keyword arg: x. From version 0.12, the only valid positional argument will be `data`, and passing other arguments without an explicit keyword will result in an error or misinterpretation.\n",
            "  FutureWarning\n",
            "/usr/local/lib/python3.7/dist-packages/seaborn/_decorators.py:43: FutureWarning: Pass the following variable as a keyword arg: x. From version 0.12, the only valid positional argument will be `data`, and passing other arguments without an explicit keyword will result in an error or misinterpretation.\n",
            "  FutureWarning\n",
            "/usr/local/lib/python3.7/dist-packages/seaborn/_decorators.py:43: FutureWarning: Pass the following variable as a keyword arg: x. From version 0.12, the only valid positional argument will be `data`, and passing other arguments without an explicit keyword will result in an error or misinterpretation.\n",
            "  FutureWarning\n",
            "/usr/local/lib/python3.7/dist-packages/seaborn/_decorators.py:43: FutureWarning: Pass the following variable as a keyword arg: x. From version 0.12, the only valid positional argument will be `data`, and passing other arguments without an explicit keyword will result in an error or misinterpretation.\n",
            "  FutureWarning\n",
            "/usr/local/lib/python3.7/dist-packages/seaborn/_decorators.py:43: FutureWarning: Pass the following variable as a keyword arg: x. From version 0.12, the only valid positional argument will be `data`, and passing other arguments without an explicit keyword will result in an error or misinterpretation.\n",
            "  FutureWarning\n",
            "/usr/local/lib/python3.7/dist-packages/seaborn/_decorators.py:43: FutureWarning: Pass the following variable as a keyword arg: x. From version 0.12, the only valid positional argument will be `data`, and passing other arguments without an explicit keyword will result in an error or misinterpretation.\n",
            "  FutureWarning\n"
          ]
        },
        {
          "output_type": "display_data",
          "data": {
            "text/plain": [
              "<Figure size 720x1800 with 22 Axes>"
            ],
            "image/png": "[encoded data removed]"
          },
          "metadata": {
            "needs_background": "light"
          }
        }
      ]
    },
    {
      "cell_type": "markdown",
      "source": [
        "# Fixing the Outliers\n",
        "\n",
        "1)fc\n",
        "\n",
        "2)px_height\n",
        "\n",
        "Steps to Remove Outliers\n",
        "1. Import the library\n",
        "2. Creating DataFrame\n",
        "3. Creating DataFrame\n",
        "4. Droping the outliers\n",
        "5. Marking the Outliers\n",
        "6. Rescaling the data"
      ],
      "metadata": {
        "id": "MIplFD-782ot"
      }
    },
    {
      "cell_type": "code",
      "source": [
        "#Fixing the Outliers for fc /px_height.\n",
        "#Step 1:-Import \n",
        "\n",
        "    import numpy as np\n",
        "    import pandas as pd\n",
        "    \n",
        "#Step2:Creating DataFrame\n",
        "    farm = pd.DataFrame()\n",
        "    farm['fc'] = [632541, 425618, 356471, 7412512]\n",
        "    farm['px_height'] = [2, 5, 3, 100]\n",
        "    print(farm)\n",
        "\n",
        "\n"
      ],
      "metadata": {
        "colab": {
          "base_uri": "https://localhost:8080/",
          "height": 131
        },
        "id": "83zFksFL9QPw",
        "outputId": "3bfa0fd6-f13c-4a94-ab2e-a1c062b5fc5a"
      },
      "execution_count": null,
      "outputs": [
        {
          "output_type": "error",
          "ename": "IndentationError",
          "evalue": "ignored",
          "traceback": [
            "\u001b[0;36m  File \u001b[0;32m\"<ipython-input-2-e2813f64bc0b>\"\u001b[0;36m, line \u001b[0;32m4\u001b[0m\n\u001b[0;31m    import numpy as np\u001b[0m\n\u001b[0m    ^\u001b[0m\n\u001b[0;31mIndentationError\u001b[0m\u001b[0;31m:\u001b[0m unexpected indent\n"
          ]
        }
      ]
    },
    {
      "cell_type": "markdown",
      "source": [
        "## Conclusion: There are   two  extreme values present in the dataset which is:\n",
        "\n",
        "\n",
        "*  fc\n",
        "*   px_height\n",
        "\n"
      ],
      "metadata": {
        "id": "vsdVg3eNhRvL"
      }
    },
    {
      "cell_type": "code",
      "source": [
        "#Check Duplicates\n",
        "\n",
        "data.duplicated().any()"
      ],
      "metadata": {
        "colab": {
          "base_uri": "https://localhost:8080/"
        },
        "id": "j_VD4__cVf20",
        "outputId": "1394ec6d-ee85-4446-d05a-2a3a87807690"
      },
      "execution_count": null,
      "outputs": [
        {
          "output_type": "execute_result",
          "data": {
            "text/plain": [
              "False"
            ]
          },
          "metadata": {},
          "execution_count": 19
        }
      ]
    },
    {
      "cell_type": "markdown",
      "source": [
        "Conclusion: There are no duplicate rows present in the dataset"
      ],
      "metadata": {
        "id": "3dGvEO4PbyeY"
      }
    },
    {
      "cell_type": "markdown",
      "source": [
        "\n",
        "## Step 4. Data Exploration:\n",
        "(shape,describe,columns,info,correlation)."
      ],
      "metadata": {
        "id": "OV7giS-yUDeW"
      }
    },
    {
      "cell_type": "code",
      "source": [
        "#Data information for TrainDataset\n",
        "data.info()"
      ],
      "metadata": {
        "colab": {
          "base_uri": "https://localhost:8080/"
        },
        "id": "370XeFsuipoV",
        "outputId": "866ae067-5a38-499e-fe1e-662e33085616"
      },
      "execution_count": null,
      "outputs": [
        {
          "output_type": "stream",
          "name": "stdout",
          "text": [
            "<class 'pandas.core.frame.DataFrame'>\n",
            "RangeIndex: 2000 entries, 0 to 1999\n",
            "Data columns (total 21 columns):\n",
            " #   Column         Non-Null Count  Dtype  \n",
            "---  ------         --------------  -----  \n",
            " 0   battery_power  2000 non-null   int64  \n",
            " 1   blue           2000 non-null   int64  \n",
            " 2   clock_speed    2000 non-null   float64\n",
            " 3   dual_sim       2000 non-null   int64  \n",
            " 4   fc             2000 non-null   int64  \n",
            " 5   four_g         2000 non-null   int64  \n",
            " 6   int_memory     2000 non-null   int64  \n",
            " 7   m_dep          2000 non-null   float64\n",
            " 8   mobile_wt      2000 non-null   int64  \n",
            " 9   n_cores        2000 non-null   int64  \n",
            " 10  pc             2000 non-null   int64  \n",
            " 11  px_height      2000 non-null   int64  \n",
            " 12  px_width       2000 non-null   int64  \n",
            " 13  ram            2000 non-null   int64  \n",
            " 14  sc_h           2000 non-null   int64  \n",
            " 15  sc_w           2000 non-null   int64  \n",
            " 16  talk_time      2000 non-null   int64  \n",
            " 17  three_g        2000 non-null   int64  \n",
            " 18  touch_screen   2000 non-null   int64  \n",
            " 19  wifi           2000 non-null   int64  \n",
            " 20  price_range    2000 non-null   int64  \n",
            "dtypes: float64(2), int64(19)\n",
            "memory usage: 328.2 KB\n"
          ]
        }
      ]
    },
    {
      "cell_type": "markdown",
      "source": [
        "# Conclusion: There are two columns that need to be change from float to  integer.\n"
      ],
      "metadata": {
        "id": "hoy9JUdLicpy"
      }
    },
    {
      "cell_type": "code",
      "source": [
        "#Convertthe data type from float to integer\n",
        "\n",
        "from sklearn.model_selection import train_test_split\n",
        "from sklearn.neighbors import KNeighborsClassifier\n",
        "from sklearn import tree\n",
        "from sklearn.metrics import accuracy_score\n",
        "\n",
        "#Recheck if the data type float already change into integer?\n",
        "data.info()\n",
        "dcopy=data.copy()\n",
        "\n",
        "## convert datatype of these columns from float to integer\n",
        "#Dataset is copied in another variable name, to maintain the original raw data undisturbed \n",
        "dcopy=data.copy()#making Copy (duplicate data set)\n",
        "\n"
      ],
      "metadata": {
        "colab": {
          "base_uri": "https://localhost:8080/"
        },
        "id": "-62aLTYSimaK",
        "outputId": "63709c91-a0cc-4eaf-f716-54ec49ae34f6"
      },
      "execution_count": null,
      "outputs": [
        {
          "output_type": "stream",
          "name": "stdout",
          "text": [
            "<class 'pandas.core.frame.DataFrame'>\n",
            "RangeIndex: 2000 entries, 0 to 1999\n",
            "Data columns (total 21 columns):\n",
            " #   Column         Non-Null Count  Dtype  \n",
            "---  ------         --------------  -----  \n",
            " 0   battery_power  2000 non-null   int64  \n",
            " 1   blue           2000 non-null   int64  \n",
            " 2   clock_speed    2000 non-null   float64\n",
            " 3   dual_sim       2000 non-null   int64  \n",
            " 4   fc             2000 non-null   int64  \n",
            " 5   four_g         2000 non-null   int64  \n",
            " 6   int_memory     2000 non-null   int64  \n",
            " 7   m_dep          2000 non-null   float64\n",
            " 8   mobile_wt      2000 non-null   int64  \n",
            " 9   n_cores        2000 non-null   int64  \n",
            " 10  pc             2000 non-null   int64  \n",
            " 11  px_height      2000 non-null   int64  \n",
            " 12  px_width       2000 non-null   int64  \n",
            " 13  ram            2000 non-null   int64  \n",
            " 14  sc_h           2000 non-null   int64  \n",
            " 15  sc_w           2000 non-null   int64  \n",
            " 16  talk_time      2000 non-null   int64  \n",
            " 17  three_g        2000 non-null   int64  \n",
            " 18  touch_screen   2000 non-null   int64  \n",
            " 19  wifi           2000 non-null   int64  \n",
            " 20  price_range    2000 non-null   int64  \n",
            "dtypes: float64(2), int64(19)\n",
            "memory usage: 328.2 KB\n"
          ]
        }
      ]
    },
    {
      "cell_type": "code",
      "source": [
        "#Display the new data set\n",
        "dcopy"
      ],
      "metadata": {
        "colab": {
          "base_uri": "https://localhost:8080/",
          "height": 488
        },
        "id": "MZkCfKYxnUBI",
        "outputId": "ab7855ff-510c-46ee-ba62-1ea02300680c"
      },
      "execution_count": null,
      "outputs": [
        {
          "output_type": "execute_result",
          "data": {
            "text/plain": [
              "      battery_power  blue  clock_speed  dual_sim  fc  four_g  int_memory  \\\n",
              "0               842     0          2.2         0   1       0           7   \n",
              "1              1021     1          0.5         1   0       1          53   \n",
              "2               563     1          0.5         1   2       1          41   \n",
              "3               615     1          2.5         0   0       0          10   \n",
              "4              1821     1          1.2         0  13       1          44   \n",
              "...             ...   ...          ...       ...  ..     ...         ...   \n",
              "1995            794     1          0.5         1   0       1           2   \n",
              "1996           1965     1          2.6         1   0       0          39   \n",
              "1997           1911     0          0.9         1   1       1          36   \n",
              "1998           1512     0          0.9         0   4       1          46   \n",
              "1999            510     1          2.0         1   5       1          45   \n",
              "\n",
              "      m_dep  mobile_wt  n_cores  ...  px_height  px_width   ram  sc_h  sc_w  \\\n",
              "0       0.6        188        2  ...         20       756  2549     9     7   \n",
              "1       0.7        136        3  ...        905      1988  2631    17     3   \n",
              "2       0.9        145        5  ...       1263      1716  2603    11     2   \n",
              "3       0.8        131        6  ...       1216      1786  2769    16     8   \n",
              "4       0.6        141        2  ...       1208      1212  1411     8     2   \n",
              "...     ...        ...      ...  ...        ...       ...   ...   ...   ...   \n",
              "1995    0.8        106        6  ...       1222      1890   668    13     4   \n",
              "1996    0.2        187        4  ...        915      1965  2032    11    10   \n",
              "1997    0.7        108        8  ...        868      1632  3057     9     1   \n",
              "1998    0.1        145        5  ...        336       670   869    18    10   \n",
              "1999    0.9        168        6  ...        483       754  3919    19     4   \n",
              "\n",
              "      talk_time  three_g  touch_screen  wifi  price_range  \n",
              "0            19        0             0     1            1  \n",
              "1             7        1             1     0            2  \n",
              "2             9        1             1     0            2  \n",
              "3            11        1             0     0            2  \n",
              "4            15        1             1     0            1  \n",
              "...         ...      ...           ...   ...          ...  \n",
              "1995         19        1             1     0            0  \n",
              "1996         16        1             1     1            2  \n",
              "1997          5        1             1     0            3  \n",
              "1998         19        1             1     1            0  \n",
              "1999          2        1             1     1            3  \n",
              "\n",
              "[2000 rows x 21 columns]"
            ],
            "text/html": [
              "\n",
              "  <div id=\"df-a05a3847-5b2d-4694-8a4f-3a84dffdbbdd\">\n",
              "    <div class=\"colab-df-container\">\n",
              "      <div>\n",
              "<style scoped>\n",
              "    .dataframe tbody tr th:only-of-type {\n",
              "        vertical-align: middle;\n",
              "    }\n",
              "\n",
              "    .dataframe tbody tr th {\n",
              "        vertical-align: top;\n",
              "    }\n",
              "\n",
              "    .dataframe thead th {\n",
              "        text-align: right;\n",
              "    }\n",
              "</style>\n",
              "<table border=\"1\" class=\"dataframe\">\n",
              "  <thead>\n",
              "    <tr style=\"text-align: right;\">\n",
              "      <th></th>\n",
              "      <th>battery_power</th>\n",
              "      <th>blue</th>\n",
              "      <th>clock_speed</th>\n",
              "      <th>dual_sim</th>\n",
              "      <th>fc</th>\n",
              "      <th>four_g</th>\n",
              "      <th>int_memory</th>\n",
              "      <th>m_dep</th>\n",
              "      <th>mobile_wt</th>\n",
              "      <th>n_cores</th>\n",
              "      <th>...</th>\n",
              "      <th>px_height</th>\n",
              "      <th>px_width</th>\n",
              "      <th>ram</th>\n",
              "      <th>sc_h</th>\n",
              "      <th>sc_w</th>\n",
              "      <th>talk_time</th>\n",
              "      <th>three_g</th>\n",
              "      <th>touch_screen</th>\n",
              "      <th>wifi</th>\n",
              "      <th>price_range</th>\n",
              "    </tr>\n",
              "  </thead>\n",
              "  <tbody>\n",
              "    <tr>\n",
              "      <th>0</th>\n",
              "      <td>842</td>\n",
              "      <td>0</td>\n",
              "      <td>2.2</td>\n",
              "      <td>0</td>\n",
              "      <td>1</td>\n",
              "      <td>0</td>\n",
              "      <td>7</td>\n",
              "      <td>0.6</td>\n",
              "      <td>188</td>\n",
              "      <td>2</td>\n",
              "      <td>...</td>\n",
              "      <td>20</td>\n",
              "      <td>756</td>\n",
              "      <td>2549</td>\n",
              "      <td>9</td>\n",
              "      <td>7</td>\n",
              "      <td>19</td>\n",
              "      <td>0</td>\n",
              "      <td>0</td>\n",
              "      <td>1</td>\n",
              "      <td>1</td>\n",
              "    </tr>\n",
              "    <tr>\n",
              "      <th>1</th>\n",
              "      <td>1021</td>\n",
              "      <td>1</td>\n",
              "      <td>0.5</td>\n",
              "      <td>1</td>\n",
              "      <td>0</td>\n",
              "      <td>1</td>\n",
              "      <td>53</td>\n",
              "      <td>0.7</td>\n",
              "      <td>136</td>\n",
              "      <td>3</td>\n",
              "      <td>...</td>\n",
              "      <td>905</td>\n",
              "      <td>1988</td>\n",
              "      <td>2631</td>\n",
              "      <td>17</td>\n",
              "      <td>3</td>\n",
              "      <td>7</td>\n",
              "      <td>1</td>\n",
              "      <td>1</td>\n",
              "      <td>0</td>\n",
              "      <td>2</td>\n",
              "    </tr>\n",
              "    <tr>\n",
              "      <th>2</th>\n",
              "      <td>563</td>\n",
              "      <td>1</td>\n",
              "      <td>0.5</td>\n",
              "      <td>1</td>\n",
              "      <td>2</td>\n",
              "      <td>1</td>\n",
              "      <td>41</td>\n",
              "      <td>0.9</td>\n",
              "      <td>145</td>\n",
              "      <td>5</td>\n",
              "      <td>...</td>\n",
              "      <td>1263</td>\n",
              "      <td>1716</td>\n",
              "      <td>2603</td>\n",
              "      <td>11</td>\n",
              "      <td>2</td>\n",
              "      <td>9</td>\n",
              "      <td>1</td>\n",
              "      <td>1</td>\n",
              "      <td>0</td>\n",
              "      <td>2</td>\n",
              "    </tr>\n",
              "    <tr>\n",
              "      <th>3</th>\n",
              "      <td>615</td>\n",
              "      <td>1</td>\n",
              "      <td>2.5</td>\n",
              "      <td>0</td>\n",
              "      <td>0</td>\n",
              "      <td>0</td>\n",
              "      <td>10</td>\n",
              "      <td>0.8</td>\n",
              "      <td>131</td>\n",
              "      <td>6</td>\n",
              "      <td>...</td>\n",
              "      <td>1216</td>\n",
              "      <td>1786</td>\n",
              "      <td>2769</td>\n",
              "      <td>16</td>\n",
              "      <td>8</td>\n",
              "      <td>11</td>\n",
              "      <td>1</td>\n",
              "      <td>0</td>\n",
              "      <td>0</td>\n",
              "      <td>2</td>\n",
              "    </tr>\n",
              "    <tr>\n",
              "      <th>4</th>\n",
              "      <td>1821</td>\n",
              "      <td>1</td>\n",
              "      <td>1.2</td>\n",
              "      <td>0</td>\n",
              "      <td>13</td>\n",
              "      <td>1</td>\n",
              "      <td>44</td>\n",
              "      <td>0.6</td>\n",
              "      <td>141</td>\n",
              "      <td>2</td>\n",
              "      <td>...</td>\n",
              "      <td>1208</td>\n",
              "      <td>1212</td>\n",
              "      <td>1411</td>\n",
              "      <td>8</td>\n",
              "      <td>2</td>\n",
              "      <td>15</td>\n",
              "      <td>1</td>\n",
              "      <td>1</td>\n",
              "      <td>0</td>\n",
              "      <td>1</td>\n",
              "    </tr>\n",
              "    <tr>\n",
              "      <th>...</th>\n",
              "      <td>...</td>\n",
              "      <td>...</td>\n",
              "      <td>...</td>\n",
              "      <td>...</td>\n",
              "      <td>...</td>\n",
              "      <td>...</td>\n",
              "      <td>...</td>\n",
              "      <td>...</td>\n",
              "      <td>...</td>\n",
              "      <td>...</td>\n",
              "      <td>...</td>\n",
              "      <td>...</td>\n",
              "      <td>...</td>\n",
              "      <td>...</td>\n",
              "      <td>...</td>\n",
              "      <td>...</td>\n",
              "      <td>...</td>\n",
              "      <td>...</td>\n",
              "      <td>...</td>\n",
              "      <td>...</td>\n",
              "      <td>...</td>\n",
              "    </tr>\n",
              "    <tr>\n",
              "      <th>1995</th>\n",
              "      <td>794</td>\n",
              "      <td>1</td>\n",
              "      <td>0.5</td>\n",
              "      <td>1</td>\n",
              "      <td>0</td>\n",
              "      <td>1</td>\n",
              "      <td>2</td>\n",
              "      <td>0.8</td>\n",
              "      <td>106</td>\n",
              "      <td>6</td>\n",
              "      <td>...</td>\n",
              "      <td>1222</td>\n",
              "      <td>1890</td>\n",
              "      <td>668</td>\n",
              "      <td>13</td>\n",
              "      <td>4</td>\n",
              "      <td>19</td>\n",
              "      <td>1</td>\n",
              "      <td>1</td>\n",
              "      <td>0</td>\n",
              "      <td>0</td>\n",
              "    </tr>\n",
              "    <tr>\n",
              "      <th>1996</th>\n",
              "      <td>1965</td>\n",
              "      <td>1</td>\n",
              "      <td>2.6</td>\n",
              "      <td>1</td>\n",
              "      <td>0</td>\n",
              "      <td>0</td>\n",
              "      <td>39</td>\n",
              "      <td>0.2</td>\n",
              "      <td>187</td>\n",
              "      <td>4</td>\n",
              "      <td>...</td>\n",
              "      <td>915</td>\n",
              "      <td>1965</td>\n",
              "      <td>2032</td>\n",
              "      <td>11</td>\n",
              "      <td>10</td>\n",
              "      <td>16</td>\n",
              "      <td>1</td>\n",
              "      <td>1</td>\n",
              "      <td>1</td>\n",
              "      <td>2</td>\n",
              "    </tr>\n",
              "    <tr>\n",
              "      <th>1997</th>\n",
              "      <td>1911</td>\n",
              "      <td>0</td>\n",
              "      <td>0.9</td>\n",
              "      <td>1</td>\n",
              "      <td>1</td>\n",
              "      <td>1</td>\n",
              "      <td>36</td>\n",
              "      <td>0.7</td>\n",
              "      <td>108</td>\n",
              "      <td>8</td>\n",
              "      <td>...</td>\n",
              "      <td>868</td>\n",
              "      <td>1632</td>\n",
              "      <td>3057</td>\n",
              "      <td>9</td>\n",
              "      <td>1</td>\n",
              "      <td>5</td>\n",
              "      <td>1</td>\n",
              "      <td>1</td>\n",
              "      <td>0</td>\n",
              "      <td>3</td>\n",
              "    </tr>\n",
              "    <tr>\n",
              "      <th>1998</th>\n",
              "      <td>1512</td>\n",
              "      <td>0</td>\n",
              "      <td>0.9</td>\n",
              "      <td>0</td>\n",
              "      <td>4</td>\n",
              "      <td>1</td>\n",
              "      <td>46</td>\n",
              "      <td>0.1</td>\n",
              "      <td>145</td>\n",
              "      <td>5</td>\n",
              "      <td>...</td>\n",
              "      <td>336</td>\n",
              "      <td>670</td>\n",
              "      <td>869</td>\n",
              "      <td>18</td>\n",
              "      <td>10</td>\n",
              "      <td>19</td>\n",
              "      <td>1</td>\n",
              "      <td>1</td>\n",
              "      <td>1</td>\n",
              "      <td>0</td>\n",
              "    </tr>\n",
              "    <tr>\n",
              "      <th>1999</th>\n",
              "      <td>510</td>\n",
              "      <td>1</td>\n",
              "      <td>2.0</td>\n",
              "      <td>1</td>\n",
              "      <td>5</td>\n",
              "      <td>1</td>\n",
              "      <td>45</td>\n",
              "      <td>0.9</td>\n",
              "      <td>168</td>\n",
              "      <td>6</td>\n",
              "      <td>...</td>\n",
              "      <td>483</td>\n",
              "      <td>754</td>\n",
              "      <td>3919</td>\n",
              "      <td>19</td>\n",
              "      <td>4</td>\n",
              "      <td>2</td>\n",
              "      <td>1</td>\n",
              "      <td>1</td>\n",
              "      <td>1</td>\n",
              "      <td>3</td>\n",
              "    </tr>\n",
              "  </tbody>\n",
              "</table>\n",
              "<p>2000 rows × 21 columns</p>\n",
              "</div>\n",
              "      <button class=\"colab-df-convert\" onclick=\"convertToInteractive('df-a05a3847-5b2d-4694-8a4f-3a84dffdbbdd')\"\n",
              "              title=\"Convert this dataframe to an interactive table.\"\n",
              "              style=\"display:none;\">\n",
              "        \n",
              "  <svg xmlns=\"http://www.w3.org/2000/svg\" height=\"24px\"viewBox=\"0 0 24 24\"\n",
              "       width=\"24px\">\n",
              "    <path d=\"M0 0h24v24H0V0z\" fill=\"none\"/>\n",
              "    <path d=\"M18.56 5.44l.94 2.06.94-2.06 2.06-.94-2.06-.94-.94-2.06-.94 2.06-2.06.94zm-11 1L8.5 8.5l.94-2.06 2.06-.94-2.06-.94L8.5 2.5l-.94 2.06-2.06.94zm10 10l.94 2.06.94-2.06 2.06-.94-2.06-.94-.94-2.06-.94 2.06-2.06.94z\"/><path d=\"M17.41 7.96l-1.37-1.37c-.4-.4-.92-.59-1.43-.59-.52 0-1.04.2-1.43.59L10.3 9.45l-7.72 7.72c-.78.78-.78 2.05 0 2.83L4 21.41c.39.39.9.59 1.41.59.51 0 1.02-.2 1.41-.59l7.78-7.78 2.81-2.81c.8-.78.8-2.07 0-2.86zM5.41 20L4 18.59l7.72-7.72 1.47 1.35L5.41 20z\"/>\n",
              "  </svg>\n",
              "      </button>\n",
              "      \n",
              "  <style>\n",
              "    .colab-df-container {\n",
              "      display:flex;\n",
              "      flex-wrap:wrap;\n",
              "      gap: 12px;\n",
              "    }\n",
              "\n",
              "    .colab-df-convert {\n",
              "      background-color: #E8F0FE;\n",
              "      border: none;\n",
              "      border-radius: 50%;\n",
              "      cursor: pointer;\n",
              "      display: none;\n",
              "      fill: #1967D2;\n",
              "      height: 32px;\n",
              "      padding: 0 0 0 0;\n",
              "      width: 32px;\n",
              "    }\n",
              "\n",
              "    .colab-df-convert:hover {\n",
              "      background-color: #E2EBFA;\n",
              "      box-shadow: 0px 1px 2px rgba(60, 64, 67, 0.3), 0px 1px 3px 1px rgba(60, 64, 67, 0.15);\n",
              "      fill: #174EA6;\n",
              "    }\n",
              "\n",
              "    [theme=dark] .colab-df-convert {\n",
              "      background-color: #3B4455;\n",
              "      fill: #D2E3FC;\n",
              "    }\n",
              "\n",
              "    [theme=dark] .colab-df-convert:hover {\n",
              "      background-color: #434B5C;\n",
              "      box-shadow: 0px 1px 3px 1px rgba(0, 0, 0, 0.15);\n",
              "      filter: drop-shadow(0px 1px 2px rgba(0, 0, 0, 0.3));\n",
              "      fill: #FFFFFF;\n",
              "    }\n",
              "  </style>\n",
              "\n",
              "      <script>\n",
              "        const buttonEl =\n",
              "          document.querySelector('#df-a05a3847-5b2d-4694-8a4f-3a84dffdbbdd button.colab-df-convert');\n",
              "        buttonEl.style.display =\n",
              "          google.colab.kernel.accessAllowed ? 'block' : 'none';\n",
              "\n",
              "        async function convertToInteractive(key) {\n",
              "          const element = document.querySelector('#df-a05a3847-5b2d-4694-8a4f-3a84dffdbbdd');\n",
              "          const dataTable =\n",
              "            await google.colab.kernel.invokeFunction('convertToInteractive',\n",
              "                                                     [key], {});\n",
              "          if (!dataTable) return;\n",
              "\n",
              "          const docLinkHtml = 'Like what you see? Visit the ' +\n",
              "            '<a target=\"_blank\" href=https://colab.research.google.com/notebooks/data_table.ipynb>data table notebook</a>'\n",
              "            + ' to learn more about interactive tables.';\n",
              "          element.innerHTML = '';\n",
              "          dataTable['output_type'] = 'display_data';\n",
              "          await google.colab.output.renderOutput(dataTable, element);\n",
              "          const docLink = document.createElement('div');\n",
              "          docLink.innerHTML = docLinkHtml;\n",
              "          element.appendChild(docLink);\n",
              "        }\n",
              "      </script>\n",
              "    </div>\n",
              "  </div>\n",
              "  "
            ]
          },
          "metadata": {},
          "execution_count": 22
        }
      ]
    },
    {
      "cell_type": "code",
      "source": [
        "dcopy.shape"
      ],
      "metadata": {
        "colab": {
          "base_uri": "https://localhost:8080/"
        },
        "id": "7NvWNQZ_ndt8",
        "outputId": "b0ae3257-70dc-4632-dc74-81190f8536ee"
      },
      "execution_count": null,
      "outputs": [
        {
          "output_type": "execute_result",
          "data": {
            "text/plain": [
              "(2000, 21)"
            ]
          },
          "metadata": {},
          "execution_count": 23
        }
      ]
    },
    {
      "cell_type": "code",
      "source": [
        "data.shape"
      ],
      "metadata": {
        "colab": {
          "base_uri": "https://localhost:8080/"
        },
        "id": "Ms2NjeCtnf67",
        "outputId": "2b95ead1-647e-460a-e8b4-0d4647078f54"
      },
      "execution_count": null,
      "outputs": [
        {
          "output_type": "execute_result",
          "data": {
            "text/plain": [
              "(2000, 21)"
            ]
          },
          "metadata": {},
          "execution_count": 24
        }
      ]
    },
    {
      "cell_type": "code",
      "source": [
        "dcopy.columns"
      ],
      "metadata": {
        "colab": {
          "base_uri": "https://localhost:8080/"
        },
        "id": "VEOx45EGnibU",
        "outputId": "37a9f8fd-9d12-4fbb-aaaa-a21b51f826c0"
      },
      "execution_count": null,
      "outputs": [
        {
          "output_type": "execute_result",
          "data": {
            "text/plain": [
              "Index(['battery_power', 'blue', 'clock_speed', 'dual_sim', 'fc', 'four_g',\n",
              "       'int_memory', 'm_dep', 'mobile_wt', 'n_cores', 'pc', 'px_height',\n",
              "       'px_width', 'ram', 'sc_h', 'sc_w', 'talk_time', 'three_g',\n",
              "       'touch_screen', 'wifi', 'price_range'],\n",
              "      dtype='object')"
            ]
          },
          "metadata": {},
          "execution_count": 25
        }
      ]
    },
    {
      "cell_type": "code",
      "source": [
        "dcopy.head()"
      ],
      "metadata": {
        "colab": {
          "base_uri": "https://localhost:8080/",
          "height": 299
        },
        "id": "MdBvgXVFntCB",
        "outputId": "4e3234a4-a0e0-4c94-9c1c-10d9eb6f447f"
      },
      "execution_count": null,
      "outputs": [
        {
          "output_type": "execute_result",
          "data": {
            "text/plain": [
              "   battery_power  blue  clock_speed  dual_sim  fc  four_g  int_memory  m_dep  \\\n",
              "0            842     0          2.2         0   1       0           7    0.6   \n",
              "1           1021     1          0.5         1   0       1          53    0.7   \n",
              "2            563     1          0.5         1   2       1          41    0.9   \n",
              "3            615     1          2.5         0   0       0          10    0.8   \n",
              "4           1821     1          1.2         0  13       1          44    0.6   \n",
              "\n",
              "   mobile_wt  n_cores  ...  px_height  px_width   ram  sc_h  sc_w  talk_time  \\\n",
              "0        188        2  ...         20       756  2549     9     7         19   \n",
              "1        136        3  ...        905      1988  2631    17     3          7   \n",
              "2        145        5  ...       1263      1716  2603    11     2          9   \n",
              "3        131        6  ...       1216      1786  2769    16     8         11   \n",
              "4        141        2  ...       1208      1212  1411     8     2         15   \n",
              "\n",
              "   three_g  touch_screen  wifi  price_range  \n",
              "0        0             0     1            1  \n",
              "1        1             1     0            2  \n",
              "2        1             1     0            2  \n",
              "3        1             0     0            2  \n",
              "4        1             1     0            1  \n",
              "\n",
              "[5 rows x 21 columns]"
            ],
            "text/html": [
              "\n",
              "  <div id=\"df-bdaeffd5-dc08-4220-b4ff-6d3b9a5489eb\">\n",
              "    <div class=\"colab-df-container\">\n",
              "      <div>\n",
              "<style scoped>\n",
              "    .dataframe tbody tr th:only-of-type {\n",
              "        vertical-align: middle;\n",
              "    }\n",
              "\n",
              "    .dataframe tbody tr th {\n",
              "        vertical-align: top;\n",
              "    }\n",
              "\n",
              "    .dataframe thead th {\n",
              "        text-align: right;\n",
              "    }\n",
              "</style>\n",
              "<table border=\"1\" class=\"dataframe\">\n",
              "  <thead>\n",
              "    <tr style=\"text-align: right;\">\n",
              "      <th></th>\n",
              "      <th>battery_power</th>\n",
              "      <th>blue</th>\n",
              "      <th>clock_speed</th>\n",
              "      <th>dual_sim</th>\n",
              "      <th>fc</th>\n",
              "      <th>four_g</th>\n",
              "      <th>int_memory</th>\n",
              "      <th>m_dep</th>\n",
              "      <th>mobile_wt</th>\n",
              "      <th>n_cores</th>\n",
              "      <th>...</th>\n",
              "      <th>px_height</th>\n",
              "      <th>px_width</th>\n",
              "      <th>ram</th>\n",
              "      <th>sc_h</th>\n",
              "      <th>sc_w</th>\n",
              "      <th>talk_time</th>\n",
              "      <th>three_g</th>\n",
              "      <th>touch_screen</th>\n",
              "      <th>wifi</th>\n",
              "      <th>price_range</th>\n",
              "    </tr>\n",
              "  </thead>\n",
              "  <tbody>\n",
              "    <tr>\n",
              "      <th>0</th>\n",
              "      <td>842</td>\n",
              "      <td>0</td>\n",
              "      <td>2.2</td>\n",
              "      <td>0</td>\n",
              "      <td>1</td>\n",
              "      <td>0</td>\n",
              "      <td>7</td>\n",
              "      <td>0.6</td>\n",
              "      <td>188</td>\n",
              "      <td>2</td>\n",
              "      <td>...</td>\n",
              "      <td>20</td>\n",
              "      <td>756</td>\n",
              "      <td>2549</td>\n",
              "      <td>9</td>\n",
              "      <td>7</td>\n",
              "      <td>19</td>\n",
              "      <td>0</td>\n",
              "      <td>0</td>\n",
              "      <td>1</td>\n",
              "      <td>1</td>\n",
              "    </tr>\n",
              "    <tr>\n",
              "      <th>1</th>\n",
              "      <td>1021</td>\n",
              "      <td>1</td>\n",
              "      <td>0.5</td>\n",
              "      <td>1</td>\n",
              "      <td>0</td>\n",
              "      <td>1</td>\n",
              "      <td>53</td>\n",
              "      <td>0.7</td>\n",
              "      <td>136</td>\n",
              "      <td>3</td>\n",
              "      <td>...</td>\n",
              "      <td>905</td>\n",
              "      <td>1988</td>\n",
              "      <td>2631</td>\n",
              "      <td>17</td>\n",
              "      <td>3</td>\n",
              "      <td>7</td>\n",
              "      <td>1</td>\n",
              "      <td>1</td>\n",
              "      <td>0</td>\n",
              "      <td>2</td>\n",
              "    </tr>\n",
              "    <tr>\n",
              "      <th>2</th>\n",
              "      <td>563</td>\n",
              "      <td>1</td>\n",
              "      <td>0.5</td>\n",
              "      <td>1</td>\n",
              "      <td>2</td>\n",
              "      <td>1</td>\n",
              "      <td>41</td>\n",
              "      <td>0.9</td>\n",
              "      <td>145</td>\n",
              "      <td>5</td>\n",
              "      <td>...</td>\n",
              "      <td>1263</td>\n",
              "      <td>1716</td>\n",
              "      <td>2603</td>\n",
              "      <td>11</td>\n",
              "      <td>2</td>\n",
              "      <td>9</td>\n",
              "      <td>1</td>\n",
              "      <td>1</td>\n",
              "      <td>0</td>\n",
              "      <td>2</td>\n",
              "    </tr>\n",
              "    <tr>\n",
              "      <th>3</th>\n",
              "      <td>615</td>\n",
              "      <td>1</td>\n",
              "      <td>2.5</td>\n",
              "      <td>0</td>\n",
              "      <td>0</td>\n",
              "      <td>0</td>\n",
              "      <td>10</td>\n",
              "      <td>0.8</td>\n",
              "      <td>131</td>\n",
              "      <td>6</td>\n",
              "      <td>...</td>\n",
              "      <td>1216</td>\n",
              "      <td>1786</td>\n",
              "      <td>2769</td>\n",
              "      <td>16</td>\n",
              "      <td>8</td>\n",
              "      <td>11</td>\n",
              "      <td>1</td>\n",
              "      <td>0</td>\n",
              "      <td>0</td>\n",
              "      <td>2</td>\n",
              "    </tr>\n",
              "    <tr>\n",
              "      <th>4</th>\n",
              "      <td>1821</td>\n",
              "      <td>1</td>\n",
              "      <td>1.2</td>\n",
              "      <td>0</td>\n",
              "      <td>13</td>\n",
              "      <td>1</td>\n",
              "      <td>44</td>\n",
              "      <td>0.6</td>\n",
              "      <td>141</td>\n",
              "      <td>2</td>\n",
              "      <td>...</td>\n",
              "      <td>1208</td>\n",
              "      <td>1212</td>\n",
              "      <td>1411</td>\n",
              "      <td>8</td>\n",
              "      <td>2</td>\n",
              "      <td>15</td>\n",
              "      <td>1</td>\n",
              "      <td>1</td>\n",
              "      <td>0</td>\n",
              "      <td>1</td>\n",
              "    </tr>\n",
              "  </tbody>\n",
              "</table>\n",
              "<p>5 rows × 21 columns</p>\n",
              "</div>\n",
              "      <button class=\"colab-df-convert\" onclick=\"convertToInteractive('df-bdaeffd5-dc08-4220-b4ff-6d3b9a5489eb')\"\n",
              "              title=\"Convert this dataframe to an interactive table.\"\n",
              "              style=\"display:none;\">\n",
              "        \n",
              "  <svg xmlns=\"http://www.w3.org/2000/svg\" height=\"24px\"viewBox=\"0 0 24 24\"\n",
              "       width=\"24px\">\n",
              "    <path d=\"M0 0h24v24H0V0z\" fill=\"none\"/>\n",
              "    <path d=\"M18.56 5.44l.94 2.06.94-2.06 2.06-.94-2.06-.94-.94-2.06-.94 2.06-2.06.94zm-11 1L8.5 8.5l.94-2.06 2.06-.94-2.06-.94L8.5 2.5l-.94 2.06-2.06.94zm10 10l.94 2.06.94-2.06 2.06-.94-2.06-.94-.94-2.06-.94 2.06-2.06.94z\"/><path d=\"M17.41 7.96l-1.37-1.37c-.4-.4-.92-.59-1.43-.59-.52 0-1.04.2-1.43.59L10.3 9.45l-7.72 7.72c-.78.78-.78 2.05 0 2.83L4 21.41c.39.39.9.59 1.41.59.51 0 1.02-.2 1.41-.59l7.78-7.78 2.81-2.81c.8-.78.8-2.07 0-2.86zM5.41 20L4 18.59l7.72-7.72 1.47 1.35L5.41 20z\"/>\n",
              "  </svg>\n",
              "      </button>\n",
              "      \n",
              "  <style>\n",
              "    .colab-df-container {\n",
              "      display:flex;\n",
              "      flex-wrap:wrap;\n",
              "      gap: 12px;\n",
              "    }\n",
              "\n",
              "    .colab-df-convert {\n",
              "      background-color: #E8F0FE;\n",
              "      border: none;\n",
              "      border-radius: 50%;\n",
              "      cursor: pointer;\n",
              "      display: none;\n",
              "      fill: #1967D2;\n",
              "      height: 32px;\n",
              "      padding: 0 0 0 0;\n",
              "      width: 32px;\n",
              "    }\n",
              "\n",
              "    .colab-df-convert:hover {\n",
              "      background-color: #E2EBFA;\n",
              "      box-shadow: 0px 1px 2px rgba(60, 64, 67, 0.3), 0px 1px 3px 1px rgba(60, 64, 67, 0.15);\n",
              "      fill: #174EA6;\n",
              "    }\n",
              "\n",
              "    [theme=dark] .colab-df-convert {\n",
              "      background-color: #3B4455;\n",
              "      fill: #D2E3FC;\n",
              "    }\n",
              "\n",
              "    [theme=dark] .colab-df-convert:hover {\n",
              "      background-color: #434B5C;\n",
              "      box-shadow: 0px 1px 3px 1px rgba(0, 0, 0, 0.15);\n",
              "      filter: drop-shadow(0px 1px 2px rgba(0, 0, 0, 0.3));\n",
              "      fill: #FFFFFF;\n",
              "    }\n",
              "  </style>\n",
              "\n",
              "      <script>\n",
              "        const buttonEl =\n",
              "          document.querySelector('#df-bdaeffd5-dc08-4220-b4ff-6d3b9a5489eb button.colab-df-convert');\n",
              "        buttonEl.style.display =\n",
              "          google.colab.kernel.accessAllowed ? 'block' : 'none';\n",
              "\n",
              "        async function convertToInteractive(key) {\n",
              "          const element = document.querySelector('#df-bdaeffd5-dc08-4220-b4ff-6d3b9a5489eb');\n",
              "          const dataTable =\n",
              "            await google.colab.kernel.invokeFunction('convertToInteractive',\n",
              "                                                     [key], {});\n",
              "          if (!dataTable) return;\n",
              "\n",
              "          const docLinkHtml = 'Like what you see? Visit the ' +\n",
              "            '<a target=\"_blank\" href=https://colab.research.google.com/notebooks/data_table.ipynb>data table notebook</a>'\n",
              "            + ' to learn more about interactive tables.';\n",
              "          element.innerHTML = '';\n",
              "          dataTable['output_type'] = 'display_data';\n",
              "          await google.colab.output.renderOutput(dataTable, element);\n",
              "          const docLink = document.createElement('div');\n",
              "          docLink.innerHTML = docLinkHtml;\n",
              "          element.appendChild(docLink);\n",
              "        }\n",
              "      </script>\n",
              "    </div>\n",
              "  </div>\n",
              "  "
            ]
          },
          "metadata": {},
          "execution_count": 26
        }
      ]
    },
    {
      "cell_type": "code",
      "source": [
        "dcopy.dtypes"
      ],
      "metadata": {
        "colab": {
          "base_uri": "https://localhost:8080/"
        },
        "id": "7fE3b1zUn0Hc",
        "outputId": "81bcc141-ce9f-46cc-b844-59e15a841c15"
      },
      "execution_count": null,
      "outputs": [
        {
          "output_type": "execute_result",
          "data": {
            "text/plain": [
              "battery_power      int64\n",
              "blue               int64\n",
              "clock_speed      float64\n",
              "dual_sim           int64\n",
              "fc                 int64\n",
              "four_g             int64\n",
              "int_memory         int64\n",
              "m_dep            float64\n",
              "mobile_wt          int64\n",
              "n_cores            int64\n",
              "pc                 int64\n",
              "px_height          int64\n",
              "px_width           int64\n",
              "ram                int64\n",
              "sc_h               int64\n",
              "sc_w               int64\n",
              "talk_time          int64\n",
              "three_g            int64\n",
              "touch_screen       int64\n",
              "wifi               int64\n",
              "price_range        int64\n",
              "dtype: object"
            ]
          },
          "metadata": {},
          "execution_count": 27
        }
      ]
    },
    {
      "cell_type": "code",
      "source": [
        "#Display the Categorical columns in the dataset#List is []\n",
        "dcopy_catagorical=dcopy.select_dtypes(include=['object']).columns.tolist()\n",
        "dcopy_catagorical"
      ],
      "metadata": {
        "colab": {
          "base_uri": "https://localhost:8080/"
        },
        "id": "z9otei7Jn9kf",
        "outputId": "b664368c-be4b-481d-ee2c-7e4e10655482"
      },
      "execution_count": null,
      "outputs": [
        {
          "output_type": "execute_result",
          "data": {
            "text/plain": [
              "[]"
            ]
          },
          "metadata": {},
          "execution_count": 28
        }
      ]
    },
    {
      "cell_type": "code",
      "source": [
        "#Describe the statistical report for numerical columns in our dataset\n",
        "dcopy.describe()"
      ],
      "metadata": {
        "colab": {
          "base_uri": "https://localhost:8080/",
          "height": 394
        },
        "id": "1V-RulF6n_mZ",
        "outputId": "5d31bf1f-6abb-4708-9cdd-7a4c0dc1f94f"
      },
      "execution_count": null,
      "outputs": [
        {
          "output_type": "execute_result",
          "data": {
            "text/plain": [
              "       battery_power       blue  clock_speed     dual_sim           fc  \\\n",
              "count    2000.000000  2000.0000  2000.000000  2000.000000  2000.000000   \n",
              "mean     1238.518500     0.4950     1.522250     0.509500     4.309500   \n",
              "std       439.418206     0.5001     0.816004     0.500035     4.341444   \n",
              "min       501.000000     0.0000     0.500000     0.000000     0.000000   \n",
              "25%       851.750000     0.0000     0.700000     0.000000     1.000000   \n",
              "50%      1226.000000     0.0000     1.500000     1.000000     3.000000   \n",
              "75%      1615.250000     1.0000     2.200000     1.000000     7.000000   \n",
              "max      1998.000000     1.0000     3.000000     1.000000    19.000000   \n",
              "\n",
              "            four_g   int_memory        m_dep    mobile_wt      n_cores  ...  \\\n",
              "count  2000.000000  2000.000000  2000.000000  2000.000000  2000.000000  ...   \n",
              "mean      0.521500    32.046500     0.501750   140.249000     4.520500  ...   \n",
              "std       0.499662    18.145715     0.288416    35.399655     2.287837  ...   \n",
              "min       0.000000     2.000000     0.100000    80.000000     1.000000  ...   \n",
              "25%       0.000000    16.000000     0.200000   109.000000     3.000000  ...   \n",
              "50%       1.000000    32.000000     0.500000   141.000000     4.000000  ...   \n",
              "75%       1.000000    48.000000     0.800000   170.000000     7.000000  ...   \n",
              "max       1.000000    64.000000     1.000000   200.000000     8.000000  ...   \n",
              "\n",
              "         px_height     px_width          ram         sc_h         sc_w  \\\n",
              "count  2000.000000  2000.000000  2000.000000  2000.000000  2000.000000   \n",
              "mean    645.108000  1251.515500  2124.213000    12.306500     5.767000   \n",
              "std     443.780811   432.199447  1084.732044     4.213245     4.356398   \n",
              "min       0.000000   500.000000   256.000000     5.000000     0.000000   \n",
              "25%     282.750000   874.750000  1207.500000     9.000000     2.000000   \n",
              "50%     564.000000  1247.000000  2146.500000    12.000000     5.000000   \n",
              "75%     947.250000  1633.000000  3064.500000    16.000000     9.000000   \n",
              "max    1960.000000  1998.000000  3998.000000    19.000000    18.000000   \n",
              "\n",
              "         talk_time      three_g  touch_screen         wifi  price_range  \n",
              "count  2000.000000  2000.000000   2000.000000  2000.000000  2000.000000  \n",
              "mean     11.011000     0.761500      0.503000     0.507000     1.500000  \n",
              "std       5.463955     0.426273      0.500116     0.500076     1.118314  \n",
              "min       2.000000     0.000000      0.000000     0.000000     0.000000  \n",
              "25%       6.000000     1.000000      0.000000     0.000000     0.750000  \n",
              "50%      11.000000     1.000000      1.000000     1.000000     1.500000  \n",
              "75%      16.000000     1.000000      1.000000     1.000000     2.250000  \n",
              "max      20.000000     1.000000      1.000000     1.000000     3.000000  \n",
              "\n",
              "[8 rows x 21 columns]"
            ],
            "text/html": [
              "\n",
              "  <div id=\"df-733e192a-0578-475a-9135-c4c84516a8a7\">\n",
              "    <div class=\"colab-df-container\">\n",
              "      <div>\n",
              "<style scoped>\n",
              "    .dataframe tbody tr th:only-of-type {\n",
              "        vertical-align: middle;\n",
              "    }\n",
              "\n",
              "    .dataframe tbody tr th {\n",
              "        vertical-align: top;\n",
              "    }\n",
              "\n",
              "    .dataframe thead th {\n",
              "        text-align: right;\n",
              "    }\n",
              "</style>\n",
              "<table border=\"1\" class=\"dataframe\">\n",
              "  <thead>\n",
              "    <tr style=\"text-align: right;\">\n",
              "      <th></th>\n",
              "      <th>battery_power</th>\n",
              "      <th>blue</th>\n",
              "      <th>clock_speed</th>\n",
              "      <th>dual_sim</th>\n",
              "      <th>fc</th>\n",
              "      <th>four_g</th>\n",
              "      <th>int_memory</th>\n",
              "      <th>m_dep</th>\n",
              "      <th>mobile_wt</th>\n",
              "      <th>n_cores</th>\n",
              "      <th>...</th>\n",
              "      <th>px_height</th>\n",
              "      <th>px_width</th>\n",
              "      <th>ram</th>\n",
              "      <th>sc_h</th>\n",
              "      <th>sc_w</th>\n",
              "      <th>talk_time</th>\n",
              "      <th>three_g</th>\n",
              "      <th>touch_screen</th>\n",
              "      <th>wifi</th>\n",
              "      <th>price_range</th>\n",
              "    </tr>\n",
              "  </thead>\n",
              "  <tbody>\n",
              "    <tr>\n",
              "      <th>count</th>\n",
              "      <td>2000.000000</td>\n",
              "      <td>2000.0000</td>\n",
              "      <td>2000.000000</td>\n",
              "      <td>2000.000000</td>\n",
              "      <td>2000.000000</td>\n",
              "      <td>2000.000000</td>\n",
              "      <td>2000.000000</td>\n",
              "      <td>2000.000000</td>\n",
              "      <td>2000.000000</td>\n",
              "      <td>2000.000000</td>\n",
              "      <td>...</td>\n",
              "      <td>2000.000000</td>\n",
              "      <td>2000.000000</td>\n",
              "      <td>2000.000000</td>\n",
              "      <td>2000.000000</td>\n",
              "      <td>2000.000000</td>\n",
              "      <td>2000.000000</td>\n",
              "      <td>2000.000000</td>\n",
              "      <td>2000.000000</td>\n",
              "      <td>2000.000000</td>\n",
              "      <td>2000.000000</td>\n",
              "    </tr>\n",
              "    <tr>\n",
              "      <th>mean</th>\n",
              "      <td>1238.518500</td>\n",
              "      <td>0.4950</td>\n",
              "      <td>1.522250</td>\n",
              "      <td>0.509500</td>\n",
              "      <td>4.309500</td>\n",
              "      <td>0.521500</td>\n",
              "      <td>32.046500</td>\n",
              "      <td>0.501750</td>\n",
              "      <td>140.249000</td>\n",
              "      <td>4.520500</td>\n",
              "      <td>...</td>\n",
              "      <td>645.108000</td>\n",
              "      <td>1251.515500</td>\n",
              "      <td>2124.213000</td>\n",
              "      <td>12.306500</td>\n",
              "      <td>5.767000</td>\n",
              "      <td>11.011000</td>\n",
              "      <td>0.761500</td>\n",
              "      <td>0.503000</td>\n",
              "      <td>0.507000</td>\n",
              "      <td>1.500000</td>\n",
              "    </tr>\n",
              "    <tr>\n",
              "      <th>std</th>\n",
              "      <td>439.418206</td>\n",
              "      <td>0.5001</td>\n",
              "      <td>0.816004</td>\n",
              "      <td>0.500035</td>\n",
              "      <td>4.341444</td>\n",
              "      <td>0.499662</td>\n",
              "      <td>18.145715</td>\n",
              "      <td>0.288416</td>\n",
              "      <td>35.399655</td>\n",
              "      <td>2.287837</td>\n",
              "      <td>...</td>\n",
              "      <td>443.780811</td>\n",
              "      <td>432.199447</td>\n",
              "      <td>1084.732044</td>\n",
              "      <td>4.213245</td>\n",
              "      <td>4.356398</td>\n",
              "      <td>5.463955</td>\n",
              "      <td>0.426273</td>\n",
              "      <td>0.500116</td>\n",
              "      <td>0.500076</td>\n",
              "      <td>1.118314</td>\n",
              "    </tr>\n",
              "    <tr>\n",
              "      <th>min</th>\n",
              "      <td>501.000000</td>\n",
              "      <td>0.0000</td>\n",
              "      <td>0.500000</td>\n",
              "      <td>0.000000</td>\n",
              "      <td>0.000000</td>\n",
              "      <td>0.000000</td>\n",
              "      <td>2.000000</td>\n",
              "      <td>0.100000</td>\n",
              "      <td>80.000000</td>\n",
              "      <td>1.000000</td>\n",
              "      <td>...</td>\n",
              "      <td>0.000000</td>\n",
              "      <td>500.000000</td>\n",
              "      <td>256.000000</td>\n",
              "      <td>5.000000</td>\n",
              "      <td>0.000000</td>\n",
              "      <td>2.000000</td>\n",
              "      <td>0.000000</td>\n",
              "      <td>0.000000</td>\n",
              "      <td>0.000000</td>\n",
              "      <td>0.000000</td>\n",
              "    </tr>\n",
              "    <tr>\n",
              "      <th>25%</th>\n",
              "      <td>851.750000</td>\n",
              "      <td>0.0000</td>\n",
              "      <td>0.700000</td>\n",
              "      <td>0.000000</td>\n",
              "      <td>1.000000</td>\n",
              "      <td>0.000000</td>\n",
              "      <td>16.000000</td>\n",
              "      <td>0.200000</td>\n",
              "      <td>109.000000</td>\n",
              "      <td>3.000000</td>\n",
              "      <td>...</td>\n",
              "      <td>282.750000</td>\n",
              "      <td>874.750000</td>\n",
              "      <td>1207.500000</td>\n",
              "      <td>9.000000</td>\n",
              "      <td>2.000000</td>\n",
              "      <td>6.000000</td>\n",
              "      <td>1.000000</td>\n",
              "      <td>0.000000</td>\n",
              "      <td>0.000000</td>\n",
              "      <td>0.750000</td>\n",
              "    </tr>\n",
              "    <tr>\n",
              "      <th>50%</th>\n",
              "      <td>1226.000000</td>\n",
              "      <td>0.0000</td>\n",
              "      <td>1.500000</td>\n",
              "      <td>1.000000</td>\n",
              "      <td>3.000000</td>\n",
              "      <td>1.000000</td>\n",
              "      <td>32.000000</td>\n",
              "      <td>0.500000</td>\n",
              "      <td>141.000000</td>\n",
              "      <td>4.000000</td>\n",
              "      <td>...</td>\n",
              "      <td>564.000000</td>\n",
              "      <td>1247.000000</td>\n",
              "      <td>2146.500000</td>\n",
              "      <td>12.000000</td>\n",
              "      <td>5.000000</td>\n",
              "      <td>11.000000</td>\n",
              "      <td>1.000000</td>\n",
              "      <td>1.000000</td>\n",
              "      <td>1.000000</td>\n",
              "      <td>1.500000</td>\n",
              "    </tr>\n",
              "    <tr>\n",
              "      <th>75%</th>\n",
              "      <td>1615.250000</td>\n",
              "      <td>1.0000</td>\n",
              "      <td>2.200000</td>\n",
              "      <td>1.000000</td>\n",
              "      <td>7.000000</td>\n",
              "      <td>1.000000</td>\n",
              "      <td>48.000000</td>\n",
              "      <td>0.800000</td>\n",
              "      <td>170.000000</td>\n",
              "      <td>7.000000</td>\n",
              "      <td>...</td>\n",
              "      <td>947.250000</td>\n",
              "      <td>1633.000000</td>\n",
              "      <td>3064.500000</td>\n",
              "      <td>16.000000</td>\n",
              "      <td>9.000000</td>\n",
              "      <td>16.000000</td>\n",
              "      <td>1.000000</td>\n",
              "      <td>1.000000</td>\n",
              "      <td>1.000000</td>\n",
              "      <td>2.250000</td>\n",
              "    </tr>\n",
              "    <tr>\n",
              "      <th>max</th>\n",
              "      <td>1998.000000</td>\n",
              "      <td>1.0000</td>\n",
              "      <td>3.000000</td>\n",
              "      <td>1.000000</td>\n",
              "      <td>19.000000</td>\n",
              "      <td>1.000000</td>\n",
              "      <td>64.000000</td>\n",
              "      <td>1.000000</td>\n",
              "      <td>200.000000</td>\n",
              "      <td>8.000000</td>\n",
              "      <td>...</td>\n",
              "      <td>1960.000000</td>\n",
              "      <td>1998.000000</td>\n",
              "      <td>3998.000000</td>\n",
              "      <td>19.000000</td>\n",
              "      <td>18.000000</td>\n",
              "      <td>20.000000</td>\n",
              "      <td>1.000000</td>\n",
              "      <td>1.000000</td>\n",
              "      <td>1.000000</td>\n",
              "      <td>3.000000</td>\n",
              "    </tr>\n",
              "  </tbody>\n",
              "</table>\n",
              "<p>8 rows × 21 columns</p>\n",
              "</div>\n",
              "      <button class=\"colab-df-convert\" onclick=\"convertToInteractive('df-733e192a-0578-475a-9135-c4c84516a8a7')\"\n",
              "              title=\"Convert this dataframe to an interactive table.\"\n",
              "              style=\"display:none;\">\n",
              "        \n",
              "  <svg xmlns=\"http://www.w3.org/2000/svg\" height=\"24px\"viewBox=\"0 0 24 24\"\n",
              "       width=\"24px\">\n",
              "    <path d=\"M0 0h24v24H0V0z\" fill=\"none\"/>\n",
              "    <path d=\"M18.56 5.44l.94 2.06.94-2.06 2.06-.94-2.06-.94-.94-2.06-.94 2.06-2.06.94zm-11 1L8.5 8.5l.94-2.06 2.06-.94-2.06-.94L8.5 2.5l-.94 2.06-2.06.94zm10 10l.94 2.06.94-2.06 2.06-.94-2.06-.94-.94-2.06-.94 2.06-2.06.94z\"/><path d=\"M17.41 7.96l-1.37-1.37c-.4-.4-.92-.59-1.43-.59-.52 0-1.04.2-1.43.59L10.3 9.45l-7.72 7.72c-.78.78-.78 2.05 0 2.83L4 21.41c.39.39.9.59 1.41.59.51 0 1.02-.2 1.41-.59l7.78-7.78 2.81-2.81c.8-.78.8-2.07 0-2.86zM5.41 20L4 18.59l7.72-7.72 1.47 1.35L5.41 20z\"/>\n",
              "  </svg>\n",
              "      </button>\n",
              "      \n",
              "  <style>\n",
              "    .colab-df-container {\n",
              "      display:flex;\n",
              "      flex-wrap:wrap;\n",
              "      gap: 12px;\n",
              "    }\n",
              "\n",
              "    .colab-df-convert {\n",
              "      background-color: #E8F0FE;\n",
              "      border: none;\n",
              "      border-radius: 50%;\n",
              "      cursor: pointer;\n",
              "      display: none;\n",
              "      fill: #1967D2;\n",
              "      height: 32px;\n",
              "      padding: 0 0 0 0;\n",
              "      width: 32px;\n",
              "    }\n",
              "\n",
              "    .colab-df-convert:hover {\n",
              "      background-color: #E2EBFA;\n",
              "      box-shadow: 0px 1px 2px rgba(60, 64, 67, 0.3), 0px 1px 3px 1px rgba(60, 64, 67, 0.15);\n",
              "      fill: #174EA6;\n",
              "    }\n",
              "\n",
              "    [theme=dark] .colab-df-convert {\n",
              "      background-color: #3B4455;\n",
              "      fill: #D2E3FC;\n",
              "    }\n",
              "\n",
              "    [theme=dark] .colab-df-convert:hover {\n",
              "      background-color: #434B5C;\n",
              "      box-shadow: 0px 1px 3px 1px rgba(0, 0, 0, 0.15);\n",
              "      filter: drop-shadow(0px 1px 2px rgba(0, 0, 0, 0.3));\n",
              "      fill: #FFFFFF;\n",
              "    }\n",
              "  </style>\n",
              "\n",
              "      <script>\n",
              "        const buttonEl =\n",
              "          document.querySelector('#df-733e192a-0578-475a-9135-c4c84516a8a7 button.colab-df-convert');\n",
              "        buttonEl.style.display =\n",
              "          google.colab.kernel.accessAllowed ? 'block' : 'none';\n",
              "\n",
              "        async function convertToInteractive(key) {\n",
              "          const element = document.querySelector('#df-733e192a-0578-475a-9135-c4c84516a8a7');\n",
              "          const dataTable =\n",
              "            await google.colab.kernel.invokeFunction('convertToInteractive',\n",
              "                                                     [key], {});\n",
              "          if (!dataTable) return;\n",
              "\n",
              "          const docLinkHtml = 'Like what you see? Visit the ' +\n",
              "            '<a target=\"_blank\" href=https://colab.research.google.com/notebooks/data_table.ipynb>data table notebook</a>'\n",
              "            + ' to learn more about interactive tables.';\n",
              "          element.innerHTML = '';\n",
              "          dataTable['output_type'] = 'display_data';\n",
              "          await google.colab.output.renderOutput(dataTable, element);\n",
              "          const docLink = document.createElement('div');\n",
              "          docLink.innerHTML = docLinkHtml;\n",
              "          element.appendChild(docLink);\n",
              "        }\n",
              "      </script>\n",
              "    </div>\n",
              "  </div>\n",
              "  "
            ]
          },
          "metadata": {},
          "execution_count": 29
        }
      ]
    },
    {
      "cell_type": "markdown",
      "source": [
        "Step 2: Data Transformation"
      ],
      "metadata": {
        "id": "GTmTXBEDoR5i"
      }
    },
    {
      "cell_type": "code",
      "source": [
        "dcopy_new=dcopy"
      ],
      "metadata": {
        "id": "c3HVytuRpF3p"
      },
      "execution_count": null,
      "outputs": []
    },
    {
      "cell_type": "code",
      "source": [
        "dcopy_new[['clock_speed', 'm_dep']] = dcopy[['clock_speed', 'm_dep']].astype('int64') #converting data type into int64"
      ],
      "metadata": {
        "id": "4yGyNwMhnZf_"
      },
      "execution_count": null,
      "outputs": []
    },
    {
      "cell_type": "code",
      "source": [
        "dcopy_new.dtypes"
      ],
      "metadata": {
        "colab": {
          "base_uri": "https://localhost:8080/"
        },
        "id": "Ge_dAgG2o0EP",
        "outputId": "52401f3e-8f8e-4dd9-82a8-741285486434"
      },
      "execution_count": null,
      "outputs": [
        {
          "output_type": "execute_result",
          "data": {
            "text/plain": [
              "battery_power    int64\n",
              "blue             int64\n",
              "clock_speed      int64\n",
              "dual_sim         int64\n",
              "fc               int64\n",
              "four_g           int64\n",
              "int_memory       int64\n",
              "m_dep            int64\n",
              "mobile_wt        int64\n",
              "n_cores          int64\n",
              "pc               int64\n",
              "px_height        int64\n",
              "px_width         int64\n",
              "ram              int64\n",
              "sc_h             int64\n",
              "sc_w             int64\n",
              "talk_time        int64\n",
              "three_g          int64\n",
              "touch_screen     int64\n",
              "wifi             int64\n",
              "price_range      int64\n",
              "dtype: object"
            ]
          },
          "metadata": {},
          "execution_count": 32
        }
      ]
    },
    {
      "cell_type": "code",
      "source": [
        "#Check the new data vs original data\n",
        "dcopy_new.shape\n",
        "data.shape"
      ],
      "metadata": {
        "colab": {
          "base_uri": "https://localhost:8080/"
        },
        "id": "wF2J0TJBpTS1",
        "outputId": "a8e2df93-8134-455c-f53a-560fa1ef9f93"
      },
      "execution_count": null,
      "outputs": [
        {
          "output_type": "execute_result",
          "data": {
            "text/plain": [
              "(2000, 21)"
            ]
          },
          "metadata": {},
          "execution_count": 33
        }
      ]
    },
    {
      "cell_type": "markdown",
      "source": [
        "Conclusion: Data successfully converted floats into integer."
      ],
      "metadata": {
        "id": "ktyA-H4DptrG"
      }
    },
    {
      "cell_type": "code",
      "source": [
        "dcopy.to_csv(\"Train_ProjectVersion.csv\")\n",
        "#Saving the data into new csv file."
      ],
      "metadata": {
        "id": "cwkQ0F4Vnfjh"
      },
      "execution_count": null,
      "outputs": []
    },
    {
      "cell_type": "code",
      "source": [
        "dcopy.corr()['price_range']"
      ],
      "metadata": {
        "colab": {
          "base_uri": "https://localhost:8080/"
        },
        "id": "vuDNHTFq0-Sc",
        "outputId": "280b03b5-5ee8-4fda-9262-8def28a15d70"
      },
      "execution_count": null,
      "outputs": [
        {
          "output_type": "execute_result",
          "data": {
            "text/plain": [
              "battery_power    0.200723\n",
              "blue             0.020573\n",
              "clock_speed      0.006837\n",
              "dual_sim         0.017444\n",
              "fc               0.021998\n",
              "four_g           0.014772\n",
              "int_memory       0.044435\n",
              "m_dep            0.001996\n",
              "mobile_wt       -0.030302\n",
              "n_cores          0.004399\n",
              "pc               0.033599\n",
              "px_height        0.148858\n",
              "px_width         0.165818\n",
              "ram              0.917046\n",
              "sc_h             0.022986\n",
              "sc_w             0.038711\n",
              "talk_time        0.021859\n",
              "three_g          0.023611\n",
              "touch_screen    -0.030411\n",
              "wifi             0.018785\n",
              "price_range      1.000000\n",
              "Name: price_range, dtype: float64"
            ]
          },
          "metadata": {},
          "execution_count": 35
        }
      ]
    },
    {
      "cell_type": "code",
      "source": [
        "#Create the heatmap to show the most correlated between the features/columns and target .\n",
        "matrix = dcopy.corr()\n",
        "f, ax = plt.subplots(figsize=(20, 15))\n",
        "sns.heatmap(matrix, vmax=1, square=True, annot=True)\n",
        "\n"
      ],
      "metadata": {
        "colab": {
          "base_uri": "https://localhost:8080/",
          "height": 899
        },
        "id": "GoDPxNGNPKDQ",
        "outputId": "55f275fd-c200-4911-9b8a-816324c4f646"
      },
      "execution_count": null,
      "outputs": [
        {
          "output_type": "execute_result",
          "data": {
            "text/plain": [
              "<matplotlib.axes._subplots.AxesSubplot at 0x7f16139ffb50>"
            ]
          },
          "metadata": {},
          "execution_count": 36
        },
        {
          "output_type": "display_data",
          "data": {
            "text/plain": [
              "<Figure size 1440x1080 with 2 Axes>"
            ],
            "image/png": "[encoded data removed]"
          },
          "metadata": {
            "needs_background": "light"
          }
        }
      ]
    },
    {
      "cell_type": "markdown",
      "source": [
        "**Conclusion:** The most correlated features are:\n",
        " \n",
        "   price_range vs Ram has correlation coefficient of 0.92.\n"
      ],
      "metadata": {
        "id": "tuY5R5KsQvzT"
      }
    },
    {
      "cell_type": "code",
      "source": [
        "sns.distplot(data['price_range']);"
      ],
      "metadata": {
        "colab": {
          "base_uri": "https://localhost:8080/",
          "height": 335
        },
        "id": "fsyaWS15t7aG",
        "outputId": "419a0f1a-d319-41a5-fc58-4804c756069c"
      },
      "execution_count": null,
      "outputs": [
        {
          "output_type": "stream",
          "name": "stderr",
          "text": [
            "/usr/local/lib/python3.7/dist-packages/seaborn/distributions.py:2619: FutureWarning: `distplot` is a deprecated function and will be removed in a future version. Please adapt your code to use either `displot` (a figure-level function with similar flexibility) or `histplot` (an axes-level function for histograms).\n",
            "  warnings.warn(msg, FutureWarning)\n"
          ]
        },
        {
          "output_type": "display_data",
          "data": {
            "text/plain": [
              "<Figure size 432x288 with 1 Axes>"
            ],
            "image/png": "[encoded data removed]"
          },
          "metadata": {
            "needs_background": "light"
          }
        }
      ]
    },
    {
      "cell_type": "code",
      "source": [
        "\n",
        "#Inconsistent data how?\n",
        "#Outliers value should be fix or not and best method to show outliers.\n",
        "#Feature warning \n",
        "#Correlation should be showing in which charts?Is the heatmap(regression only not categorical) fot this ?\n",
        "#How to check the balance/imbalance data?\n",
        "#Splitting data\n",
        "\n"
      ],
      "metadata": {
        "id": "dQjGnutlrpiB"
      },
      "execution_count": null,
      "outputs": []
    },
    {
      "cell_type": "code",
      "source": [
        "data.describe()"
      ],
      "metadata": {
        "colab": {
          "base_uri": "https://localhost:8080/",
          "height": 394
        },
        "id": "pG75egxwFRlx",
        "outputId": "d1fabfb1-bf36-4c77-907a-4fac7679e39b"
      },
      "execution_count": null,
      "outputs": [
        {
          "output_type": "execute_result",
          "data": {
            "text/plain": [
              "       battery_power       blue  clock_speed     dual_sim           fc  \\\n",
              "count    2000.000000  2000.0000  2000.000000  2000.000000  2000.000000   \n",
              "mean     1238.518500     0.4950     1.522250     0.509500     4.309500   \n",
              "std       439.418206     0.5001     0.816004     0.500035     4.341444   \n",
              "min       501.000000     0.0000     0.500000     0.000000     0.000000   \n",
              "25%       851.750000     0.0000     0.700000     0.000000     1.000000   \n",
              "50%      1226.000000     0.0000     1.500000     1.000000     3.000000   \n",
              "75%      1615.250000     1.0000     2.200000     1.000000     7.000000   \n",
              "max      1998.000000     1.0000     3.000000     1.000000    19.000000   \n",
              "\n",
              "            four_g   int_memory        m_dep    mobile_wt      n_cores  ...  \\\n",
              "count  2000.000000  2000.000000  2000.000000  2000.000000  2000.000000  ...   \n",
              "mean      0.521500    32.046500     0.501750   140.249000     4.520500  ...   \n",
              "std       0.499662    18.145715     0.288416    35.399655     2.287837  ...   \n",
              "min       0.000000     2.000000     0.100000    80.000000     1.000000  ...   \n",
              "25%       0.000000    16.000000     0.200000   109.000000     3.000000  ...   \n",
              "50%       1.000000    32.000000     0.500000   141.000000     4.000000  ...   \n",
              "75%       1.000000    48.000000     0.800000   170.000000     7.000000  ...   \n",
              "max       1.000000    64.000000     1.000000   200.000000     8.000000  ...   \n",
              "\n",
              "         px_height     px_width          ram         sc_h         sc_w  \\\n",
              "count  2000.000000  2000.000000  2000.000000  2000.000000  2000.000000   \n",
              "mean    645.108000  1251.515500  2124.213000    12.306500     5.767000   \n",
              "std     443.780811   432.199447  1084.732044     4.213245     4.356398   \n",
              "min       0.000000   500.000000   256.000000     5.000000     0.000000   \n",
              "25%     282.750000   874.750000  1207.500000     9.000000     2.000000   \n",
              "50%     564.000000  1247.000000  2146.500000    12.000000     5.000000   \n",
              "75%     947.250000  1633.000000  3064.500000    16.000000     9.000000   \n",
              "max    1960.000000  1998.000000  3998.000000    19.000000    18.000000   \n",
              "\n",
              "         talk_time      three_g  touch_screen         wifi  price_range  \n",
              "count  2000.000000  2000.000000   2000.000000  2000.000000  2000.000000  \n",
              "mean     11.011000     0.761500      0.503000     0.507000     1.500000  \n",
              "std       5.463955     0.426273      0.500116     0.500076     1.118314  \n",
              "min       2.000000     0.000000      0.000000     0.000000     0.000000  \n",
              "25%       6.000000     1.000000      0.000000     0.000000     0.750000  \n",
              "50%      11.000000     1.000000      1.000000     1.000000     1.500000  \n",
              "75%      16.000000     1.000000      1.000000     1.000000     2.250000  \n",
              "max      20.000000     1.000000      1.000000     1.000000     3.000000  \n",
              "\n",
              "[8 rows x 21 columns]"
            ],
            "text/html": [
              "\n",
              "  <div id=\"df-9d28d81a-4104-458c-9f6d-cb36aa492945\">\n",
              "    <div class=\"colab-df-container\">\n",
              "      <div>\n",
              "<style scoped>\n",
              "    .dataframe tbody tr th:only-of-type {\n",
              "        vertical-align: middle;\n",
              "    }\n",
              "\n",
              "    .dataframe tbody tr th {\n",
              "        vertical-align: top;\n",
              "    }\n",
              "\n",
              "    .dataframe thead th {\n",
              "        text-align: right;\n",
              "    }\n",
              "</style>\n",
              "<table border=\"1\" class=\"dataframe\">\n",
              "  <thead>\n",
              "    <tr style=\"text-align: right;\">\n",
              "      <th></th>\n",
              "      <th>battery_power</th>\n",
              "      <th>blue</th>\n",
              "      <th>clock_speed</th>\n",
              "      <th>dual_sim</th>\n",
              "      <th>fc</th>\n",
              "      <th>four_g</th>\n",
              "      <th>int_memory</th>\n",
              "      <th>m_dep</th>\n",
              "      <th>mobile_wt</th>\n",
              "      <th>n_cores</th>\n",
              "      <th>...</th>\n",
              "      <th>px_height</th>\n",
              "      <th>px_width</th>\n",
              "      <th>ram</th>\n",
              "      <th>sc_h</th>\n",
              "      <th>sc_w</th>\n",
              "      <th>talk_time</th>\n",
              "      <th>three_g</th>\n",
              "      <th>touch_screen</th>\n",
              "      <th>wifi</th>\n",
              "      <th>price_range</th>\n",
              "    </tr>\n",
              "  </thead>\n",
              "  <tbody>\n",
              "    <tr>\n",
              "      <th>count</th>\n",
              "      <td>2000.000000</td>\n",
              "      <td>2000.0000</td>\n",
              "      <td>2000.000000</td>\n",
              "      <td>2000.000000</td>\n",
              "      <td>2000.000000</td>\n",
              "      <td>2000.000000</td>\n",
              "      <td>2000.000000</td>\n",
              "      <td>2000.000000</td>\n",
              "      <td>2000.000000</td>\n",
              "      <td>2000.000000</td>\n",
              "      <td>...</td>\n",
              "      <td>2000.000000</td>\n",
              "      <td>2000.000000</td>\n",
              "      <td>2000.000000</td>\n",
              "      <td>2000.000000</td>\n",
              "      <td>2000.000000</td>\n",
              "      <td>2000.000000</td>\n",
              "      <td>2000.000000</td>\n",
              "      <td>2000.000000</td>\n",
              "      <td>2000.000000</td>\n",
              "      <td>2000.000000</td>\n",
              "    </tr>\n",
              "    <tr>\n",
              "      <th>mean</th>\n",
              "      <td>1238.518500</td>\n",
              "      <td>0.4950</td>\n",
              "      <td>1.522250</td>\n",
              "      <td>0.509500</td>\n",
              "      <td>4.309500</td>\n",
              "      <td>0.521500</td>\n",
              "      <td>32.046500</td>\n",
              "      <td>0.501750</td>\n",
              "      <td>140.249000</td>\n",
              "      <td>4.520500</td>\n",
              "      <td>...</td>\n",
              "      <td>645.108000</td>\n",
              "      <td>1251.515500</td>\n",
              "      <td>2124.213000</td>\n",
              "      <td>12.306500</td>\n",
              "      <td>5.767000</td>\n",
              "      <td>11.011000</td>\n",
              "      <td>0.761500</td>\n",
              "      <td>0.503000</td>\n",
              "      <td>0.507000</td>\n",
              "      <td>1.500000</td>\n",
              "    </tr>\n",
              "    <tr>\n",
              "      <th>std</th>\n",
              "      <td>439.418206</td>\n",
              "      <td>0.5001</td>\n",
              "      <td>0.816004</td>\n",
              "      <td>0.500035</td>\n",
              "      <td>4.341444</td>\n",
              "      <td>0.499662</td>\n",
              "      <td>18.145715</td>\n",
              "      <td>0.288416</td>\n",
              "      <td>35.399655</td>\n",
              "      <td>2.287837</td>\n",
              "      <td>...</td>\n",
              "      <td>443.780811</td>\n",
              "      <td>432.199447</td>\n",
              "      <td>1084.732044</td>\n",
              "      <td>4.213245</td>\n",
              "      <td>4.356398</td>\n",
              "      <td>5.463955</td>\n",
              "      <td>0.426273</td>\n",
              "      <td>0.500116</td>\n",
              "      <td>0.500076</td>\n",
              "      <td>1.118314</td>\n",
              "    </tr>\n",
              "    <tr>\n",
              "      <th>min</th>\n",
              "      <td>501.000000</td>\n",
              "      <td>0.0000</td>\n",
              "      <td>0.500000</td>\n",
              "      <td>0.000000</td>\n",
              "      <td>0.000000</td>\n",
              "      <td>0.000000</td>\n",
              "      <td>2.000000</td>\n",
              "      <td>0.100000</td>\n",
              "      <td>80.000000</td>\n",
              "      <td>1.000000</td>\n",
              "      <td>...</td>\n",
              "      <td>0.000000</td>\n",
              "      <td>500.000000</td>\n",
              "      <td>256.000000</td>\n",
              "      <td>5.000000</td>\n",
              "      <td>0.000000</td>\n",
              "      <td>2.000000</td>\n",
              "      <td>0.000000</td>\n",
              "      <td>0.000000</td>\n",
              "      <td>0.000000</td>\n",
              "      <td>0.000000</td>\n",
              "    </tr>\n",
              "    <tr>\n",
              "      <th>25%</th>\n",
              "      <td>851.750000</td>\n",
              "      <td>0.0000</td>\n",
              "      <td>0.700000</td>\n",
              "      <td>0.000000</td>\n",
              "      <td>1.000000</td>\n",
              "      <td>0.000000</td>\n",
              "      <td>16.000000</td>\n",
              "      <td>0.200000</td>\n",
              "      <td>109.000000</td>\n",
              "      <td>3.000000</td>\n",
              "      <td>...</td>\n",
              "      <td>282.750000</td>\n",
              "      <td>874.750000</td>\n",
              "      <td>1207.500000</td>\n",
              "      <td>9.000000</td>\n",
              "      <td>2.000000</td>\n",
              "      <td>6.000000</td>\n",
              "      <td>1.000000</td>\n",
              "      <td>0.000000</td>\n",
              "      <td>0.000000</td>\n",
              "      <td>0.750000</td>\n",
              "    </tr>\n",
              "    <tr>\n",
              "      <th>50%</th>\n",
              "      <td>1226.000000</td>\n",
              "      <td>0.0000</td>\n",
              "      <td>1.500000</td>\n",
              "      <td>1.000000</td>\n",
              "      <td>3.000000</td>\n",
              "      <td>1.000000</td>\n",
              "      <td>32.000000</td>\n",
              "      <td>0.500000</td>\n",
              "      <td>141.000000</td>\n",
              "      <td>4.000000</td>\n",
              "      <td>...</td>\n",
              "      <td>564.000000</td>\n",
              "      <td>1247.000000</td>\n",
              "      <td>2146.500000</td>\n",
              "      <td>12.000000</td>\n",
              "      <td>5.000000</td>\n",
              "      <td>11.000000</td>\n",
              "      <td>1.000000</td>\n",
              "      <td>1.000000</td>\n",
              "      <td>1.000000</td>\n",
              "      <td>1.500000</td>\n",
              "    </tr>\n",
              "    <tr>\n",
              "      <th>75%</th>\n",
              "      <td>1615.250000</td>\n",
              "      <td>1.0000</td>\n",
              "      <td>2.200000</td>\n",
              "      <td>1.000000</td>\n",
              "      <td>7.000000</td>\n",
              "      <td>1.000000</td>\n",
              "      <td>48.000000</td>\n",
              "      <td>0.800000</td>\n",
              "      <td>170.000000</td>\n",
              "      <td>7.000000</td>\n",
              "      <td>...</td>\n",
              "      <td>947.250000</td>\n",
              "      <td>1633.000000</td>\n",
              "      <td>3064.500000</td>\n",
              "      <td>16.000000</td>\n",
              "      <td>9.000000</td>\n",
              "      <td>16.000000</td>\n",
              "      <td>1.000000</td>\n",
              "      <td>1.000000</td>\n",
              "      <td>1.000000</td>\n",
              "      <td>2.250000</td>\n",
              "    </tr>\n",
              "    <tr>\n",
              "      <th>max</th>\n",
              "      <td>1998.000000</td>\n",
              "      <td>1.0000</td>\n",
              "      <td>3.000000</td>\n",
              "      <td>1.000000</td>\n",
              "      <td>19.000000</td>\n",
              "      <td>1.000000</td>\n",
              "      <td>64.000000</td>\n",
              "      <td>1.000000</td>\n",
              "      <td>200.000000</td>\n",
              "      <td>8.000000</td>\n",
              "      <td>...</td>\n",
              "      <td>1960.000000</td>\n",
              "      <td>1998.000000</td>\n",
              "      <td>3998.000000</td>\n",
              "      <td>19.000000</td>\n",
              "      <td>18.000000</td>\n",
              "      <td>20.000000</td>\n",
              "      <td>1.000000</td>\n",
              "      <td>1.000000</td>\n",
              "      <td>1.000000</td>\n",
              "      <td>3.000000</td>\n",
              "    </tr>\n",
              "  </tbody>\n",
              "</table>\n",
              "<p>8 rows × 21 columns</p>\n",
              "</div>\n",
              "      <button class=\"colab-df-convert\" onclick=\"convertToInteractive('df-9d28d81a-4104-458c-9f6d-cb36aa492945')\"\n",
              "              title=\"Convert this dataframe to an interactive table.\"\n",
              "              style=\"display:none;\">\n",
              "        \n",
              "  <svg xmlns=\"http://www.w3.org/2000/svg\" height=\"24px\"viewBox=\"0 0 24 24\"\n",
              "       width=\"24px\">\n",
              "    <path d=\"M0 0h24v24H0V0z\" fill=\"none\"/>\n",
              "    <path d=\"M18.56 5.44l.94 2.06.94-2.06 2.06-.94-2.06-.94-.94-2.06-.94 2.06-2.06.94zm-11 1L8.5 8.5l.94-2.06 2.06-.94-2.06-.94L8.5 2.5l-.94 2.06-2.06.94zm10 10l.94 2.06.94-2.06 2.06-.94-2.06-.94-.94-2.06-.94 2.06-2.06.94z\"/><path d=\"M17.41 7.96l-1.37-1.37c-.4-.4-.92-.59-1.43-.59-.52 0-1.04.2-1.43.59L10.3 9.45l-7.72 7.72c-.78.78-.78 2.05 0 2.83L4 21.41c.39.39.9.59 1.41.59.51 0 1.02-.2 1.41-.59l7.78-7.78 2.81-2.81c.8-.78.8-2.07 0-2.86zM5.41 20L4 18.59l7.72-7.72 1.47 1.35L5.41 20z\"/>\n",
              "  </svg>\n",
              "      </button>\n",
              "      \n",
              "  <style>\n",
              "    .colab-df-container {\n",
              "      display:flex;\n",
              "      flex-wrap:wrap;\n",
              "      gap: 12px;\n",
              "    }\n",
              "\n",
              "    .colab-df-convert {\n",
              "      background-color: #E8F0FE;\n",
              "      border: none;\n",
              "      border-radius: 50%;\n",
              "      cursor: pointer;\n",
              "      display: none;\n",
              "      fill: #1967D2;\n",
              "      height: 32px;\n",
              "      padding: 0 0 0 0;\n",
              "      width: 32px;\n",
              "    }\n",
              "\n",
              "    .colab-df-convert:hover {\n",
              "      background-color: #E2EBFA;\n",
              "      box-shadow: 0px 1px 2px rgba(60, 64, 67, 0.3), 0px 1px 3px 1px rgba(60, 64, 67, 0.15);\n",
              "      fill: #174EA6;\n",
              "    }\n",
              "\n",
              "    [theme=dark] .colab-df-convert {\n",
              "      background-color: #3B4455;\n",
              "      fill: #D2E3FC;\n",
              "    }\n",
              "\n",
              "    [theme=dark] .colab-df-convert:hover {\n",
              "      background-color: #434B5C;\n",
              "      box-shadow: 0px 1px 3px 1px rgba(0, 0, 0, 0.15);\n",
              "      filter: drop-shadow(0px 1px 2px rgba(0, 0, 0, 0.3));\n",
              "      fill: #FFFFFF;\n",
              "    }\n",
              "  </style>\n",
              "\n",
              "      <script>\n",
              "        const buttonEl =\n",
              "          document.querySelector('#df-9d28d81a-4104-458c-9f6d-cb36aa492945 button.colab-df-convert');\n",
              "        buttonEl.style.display =\n",
              "          google.colab.kernel.accessAllowed ? 'block' : 'none';\n",
              "\n",
              "        async function convertToInteractive(key) {\n",
              "          const element = document.querySelector('#df-9d28d81a-4104-458c-9f6d-cb36aa492945');\n",
              "          const dataTable =\n",
              "            await google.colab.kernel.invokeFunction('convertToInteractive',\n",
              "                                                     [key], {});\n",
              "          if (!dataTable) return;\n",
              "\n",
              "          const docLinkHtml = 'Like what you see? Visit the ' +\n",
              "            '<a target=\"_blank\" href=https://colab.research.google.com/notebooks/data_table.ipynb>data table notebook</a>'\n",
              "            + ' to learn more about interactive tables.';\n",
              "          element.innerHTML = '';\n",
              "          dataTable['output_type'] = 'display_data';\n",
              "          await google.colab.output.renderOutput(dataTable, element);\n",
              "          const docLink = document.createElement('div');\n",
              "          docLink.innerHTML = docLinkHtml;\n",
              "          element.appendChild(docLink);\n",
              "        }\n",
              "      </script>\n",
              "    </div>\n",
              "  </div>\n",
              "  "
            ]
          },
          "metadata": {},
          "execution_count": 39
        }
      ]
    },
    {
      "cell_type": "code",
      "source": [
        "data.info()#Data Info for the train.csv"
      ],
      "metadata": {
        "colab": {
          "base_uri": "https://localhost:8080/"
        },
        "id": "OjLwOrwqFYxx",
        "outputId": "d92d56f7-3c9f-4bdf-8e1d-c034c41a4011"
      },
      "execution_count": null,
      "outputs": [
        {
          "output_type": "stream",
          "name": "stdout",
          "text": [
            "<class 'pandas.core.frame.DataFrame'>\n",
            "RangeIndex: 2000 entries, 0 to 1999\n",
            "Data columns (total 21 columns):\n",
            " #   Column         Non-Null Count  Dtype  \n",
            "---  ------         --------------  -----  \n",
            " 0   battery_power  2000 non-null   int64  \n",
            " 1   blue           2000 non-null   int64  \n",
            " 2   clock_speed    2000 non-null   float64\n",
            " 3   dual_sim       2000 non-null   int64  \n",
            " 4   fc             2000 non-null   int64  \n",
            " 5   four_g         2000 non-null   int64  \n",
            " 6   int_memory     2000 non-null   int64  \n",
            " 7   m_dep          2000 non-null   float64\n",
            " 8   mobile_wt      2000 non-null   int64  \n",
            " 9   n_cores        2000 non-null   int64  \n",
            " 10  pc             2000 non-null   int64  \n",
            " 11  px_height      2000 non-null   int64  \n",
            " 12  px_width       2000 non-null   int64  \n",
            " 13  ram            2000 non-null   int64  \n",
            " 14  sc_h           2000 non-null   int64  \n",
            " 15  sc_w           2000 non-null   int64  \n",
            " 16  talk_time      2000 non-null   int64  \n",
            " 17  three_g        2000 non-null   int64  \n",
            " 18  touch_screen   2000 non-null   int64  \n",
            " 19  wifi           2000 non-null   int64  \n",
            " 20  price_range    2000 non-null   int64  \n",
            "dtypes: float64(2), int64(19)\n",
            "memory usage: 328.2 KB\n"
          ]
        }
      ]
    },
    {
      "cell_type": "code",
      "source": [
        "data.shape"
      ],
      "metadata": {
        "colab": {
          "base_uri": "https://localhost:8080/"
        },
        "id": "rBV-tvw8MO8o",
        "outputId": "8639c46f-044b-4a37-e2be-ecca3bdb3c8f"
      },
      "execution_count": null,
      "outputs": [
        {
          "output_type": "execute_result",
          "data": {
            "text/plain": [
              "(2000, 21)"
            ]
          },
          "metadata": {},
          "execution_count": 41
        }
      ]
    },
    {
      "cell_type": "code",
      "source": [
        "data.columns"
      ],
      "metadata": {
        "colab": {
          "base_uri": "https://localhost:8080/"
        },
        "id": "mSCcjuMAMyap",
        "outputId": "0bdfcd51-a71b-473c-d6db-d7ede93f8054"
      },
      "execution_count": null,
      "outputs": [
        {
          "output_type": "execute_result",
          "data": {
            "text/plain": [
              "Index(['battery_power', 'blue', 'clock_speed', 'dual_sim', 'fc', 'four_g',\n",
              "       'int_memory', 'm_dep', 'mobile_wt', 'n_cores', 'pc', 'px_height',\n",
              "       'px_width', 'ram', 'sc_h', 'sc_w', 'talk_time', 'three_g',\n",
              "       'touch_screen', 'wifi', 'price_range'],\n",
              "      dtype='object')"
            ]
          },
          "metadata": {},
          "execution_count": 42
        }
      ]
    },
    {
      "cell_type": "code",
      "source": [
        "#How to check the balance/imbalance data:\n",
        "\n",
        "import numpy as np\n",
        "import pandas as pd\n",
        "import matplotlib.pyplot as plt\n",
        "import seaborn as sns\n",
        "from IPython.core.pylabtools import figsize\n",
        "\n",
        "import folium\n",
        "from folium.plugins import HeatMap\n",
        "import plotly.express as px\n",
        "import seaborn as sns\n",
        "\n",
        "## Import LabelEncoder from sklearn\n",
        "from sklearn.preprocessing import LabelEncoder\n",
        "#Calculate by using PCA\n",
        "from sklearn.preprocessing import StandardScaler\n",
        "from sklearn.model_selection import train_test_split\n",
        "from sklearn.decomposition import PCA\n",
        "\n",
        "\n",
        "from sklearn.ensemble import RandomForestClassifier\n",
        "from sklearn.tree import DecisionTreeClassifier\n",
        "from sklearn.svm import SVC\n",
        "\n",
        "from sklearn.metrics import accuracy_score\n",
        "from sklearn.metrics import confusion_matrix\n",
        "from sklearn.metrics import classification_report\n",
        "from sklearn.metrics import plot_confusion_matrix\n",
        "\n",
        "from sklearn.metrics import mean_squared_error\n",
        "from sklearn.metrics import mean_absolute_error\n",
        "from sklearn.metrics import mean_squared_error\n",
        "from sklearn.metrics import mean_absolute_percentage_error\n",
        "from sklearn.metrics import r2_score"
      ],
      "metadata": {
        "id": "vhk6kaRwxR-n"
      },
      "execution_count": null,
      "outputs": []
    },
    {
      "cell_type": "code",
      "source": [
        "def transform(dataframe):      \n",
        "      \n",
        "    le = LabelEncoder()\n",
        "    ## Select all categorcial features\n",
        "    categorical_features = list(dataframe.columns[dataframe.dtypes ==np.int64 ])    \n",
        "    ## Apply Label Encoding on all categorical features\n",
        "    return dataframe[categorical_features].apply(lambda x: le.fit_transform(x))\n",
        "\n",
        "X = dcopy_new.drop('ram', axis=1)\n",
        "#Apply tranformation only to categorical columns\n",
        "Xin=transform(X)\n",
        "y = dcopy_new['price_range']\n",
        "X_train, X_test, y_train, y_test = train_test_split(Xin, y, test_size=0.25, random_state=42)\n",
        "ss = StandardScaler()\n",
        "X_train_scaled = ss.fit_transform(X_train)\n",
        "X_test_scaled = ss.transform(X_test)\n",
        "pca = PCA().fit(X_train_scaled)\n",
        "\n",
        "loadings = pd.DataFrame(\n",
        "    data=pca.components_.T * np.sqrt(pca.explained_variance_), \n",
        "    columns=[f'PC{i}' for i in range(1, len(X_train.columns) + 1)],\n",
        "    index=X_train.columns\n",
        ")\n",
        "loadings"
      ],
      "metadata": {
        "colab": {
          "base_uri": "https://localhost:8080/",
          "height": 740
        },
        "id": "kvQEmMHJNMZw",
        "outputId": "f42082cd-2a82-4a2b-c993-9f4b640e22d8"
      },
      "execution_count": null,
      "outputs": [
        {
          "output_type": "execute_result",
          "data": {
            "text/plain": [
              "                    PC1       PC2       PC3       PC4       PC5       PC6  \\\n",
              "battery_power  0.079372 -0.203524  0.090712 -0.148408 -0.607054 -0.057333   \n",
              "blue          -0.023660  0.050149  0.039026 -0.019209 -0.319075  0.158248   \n",
              "clock_speed    0.047376  0.084637  0.059997  0.038072 -0.042979  0.233272   \n",
              "dual_sim      -0.056615  0.064865 -0.006611 -0.082787  0.129266 -0.371361   \n",
              "fc             0.766265 -0.419807 -0.005707  0.206386  0.053132  0.015167   \n",
              "four_g        -0.256069 -0.526291 -0.621255 -0.224697  0.048304  0.074649   \n",
              "int_memory    -0.064736 -0.000133  0.000341  0.064527 -0.368352 -0.183602   \n",
              "m_dep          0.101812 -0.025894 -0.000643 -0.038000 -0.151057  0.193508   \n",
              "mobile_wt      0.051575  0.008087  0.072132 -0.049669  0.305925 -0.035819   \n",
              "n_cores       -0.033406  0.013462  0.066818  0.012360 -0.090942  0.502857   \n",
              "pc             0.768178 -0.424898 -0.018086  0.187885  0.045424  0.010895   \n",
              "px_height     -0.181421 -0.398238  0.600381 -0.294853  0.189899  0.076565   \n",
              "px_width      -0.177343 -0.440441  0.545312 -0.342297  0.220887  0.093003   \n",
              "sc_h          -0.344170 -0.312818  0.118395  0.712106 -0.019577 -0.009315   \n",
              "sc_w          -0.407810 -0.297697  0.082287  0.688910 -0.017278  0.036489   \n",
              "talk_time      0.052097  0.025928  0.075811 -0.058338 -0.291987  0.223955   \n",
              "three_g       -0.230317 -0.536768 -0.619512 -0.229697  0.057536  0.050692   \n",
              "touch_screen  -0.024248  0.058229 -0.015472 -0.001656  0.021421  0.649164   \n",
              "wifi           0.033842 -0.095441  0.168156  0.070138  0.233530 -0.046742   \n",
              "price_range   -0.088663 -0.374648  0.276073 -0.173647 -0.455526 -0.245764   \n",
              "\n",
              "                    PC7       PC8       PC9      PC10      PC11      PC12  \\\n",
              "battery_power -0.159200  0.169001  0.304985  0.261790  0.015625 -0.052196   \n",
              "blue           0.460958  0.277602 -0.431206 -0.126885 -0.298249  0.027922   \n",
              "clock_speed    0.209672 -0.316392  0.464066 -0.052940 -0.577152 -0.301173   \n",
              "dual_sim       0.488085  0.323373 -0.099936  0.247129 -0.000163 -0.466047   \n",
              "fc             0.045736 -0.009939 -0.049080 -0.025331 -0.049061 -0.040159   \n",
              "four_g         0.031651  0.005592 -0.036491 -0.046549 -0.029086 -0.040549   \n",
              "int_memory     0.216914 -0.441786 -0.307393 -0.471472 -0.031866  0.073038   \n",
              "m_dep          0.464690  0.201208  0.317858 -0.158173  0.445176  0.421876   \n",
              "mobile_wt     -0.055464  0.565738  0.061346 -0.214615 -0.333203  0.183973   \n",
              "n_cores       -0.030401 -0.015132 -0.301938  0.495076 -0.287978  0.345190   \n",
              "pc             0.019090  0.001174 -0.054911 -0.033059 -0.019823 -0.040754   \n",
              "px_height      0.029241 -0.071153  0.001455 -0.183591 -0.007836 -0.005174   \n",
              "px_width       0.000275 -0.030101 -0.036906 -0.100367 -0.005688  0.000006   \n",
              "sc_h          -0.002638  0.092233  0.034377 -0.048448  0.017511 -0.025602   \n",
              "sc_w          -0.003841  0.100512  0.052261  0.019315 -0.014034 -0.022986   \n",
              "talk_time     -0.443566  0.263441 -0.321886 -0.246252  0.138294 -0.380601   \n",
              "three_g        0.010194 -0.030958 -0.028389  0.007656 -0.056886  0.000948   \n",
              "touch_screen   0.193661  0.010209  0.095671 -0.025460  0.319181 -0.401761   \n",
              "wifi           0.158515 -0.264017 -0.304090  0.397448  0.243563 -0.052225   \n",
              "price_range    0.046478  0.015303  0.083624  0.232184 -0.018628 -0.012968   \n",
              "\n",
              "                   PC13      PC14      PC15      PC16      PC17      PC18  \\\n",
              "battery_power -0.233713 -0.157207 -0.033889  0.500069  0.041769  0.012555   \n",
              "blue          -0.020068 -0.414253  0.333912 -0.039711  0.040237  0.022323   \n",
              "clock_speed   -0.134126  0.265952  0.229111 -0.043872  0.015009  0.010913   \n",
              "dual_sim       0.235869  0.293890 -0.162875  0.173420 -0.037586 -0.022623   \n",
              "fc             0.061673 -0.016746 -0.021383  0.010553 -0.008870 -0.067541   \n",
              "four_g        -0.030045  0.013180  0.033851  0.020373 -0.059339 -0.033028   \n",
              "int_memory    -0.160694  0.200316 -0.401960  0.169898  0.031570 -0.013524   \n",
              "m_dep          0.004303  0.359871  0.198060 -0.011544  0.000002 -0.019926   \n",
              "mobile_wt     -0.522783  0.101179 -0.303447 -0.042226  0.005188  0.010377   \n",
              "n_cores        0.187453  0.302970 -0.232414  0.087795 -0.072353 -0.003743   \n",
              "pc             0.082625 -0.010609 -0.050643 -0.008563  0.006968  0.028435   \n",
              "px_height      0.050914 -0.085529  0.061342  0.149681 -0.454255 -0.186415   \n",
              "px_width       0.172577  0.043151  0.005059  0.081911  0.470449  0.171160   \n",
              "sc_h           0.026469  0.035985  0.031912  0.053477 -0.177228  0.459723   \n",
              "sc_w           0.016341 -0.005843 -0.006958  0.002340  0.196758 -0.455843   \n",
              "talk_time     -0.047706  0.436689  0.244542 -0.065012 -0.016727 -0.030947   \n",
              "three_g       -0.059629  0.064732  0.045150  0.002795  0.014348  0.036995   \n",
              "touch_screen  -0.130672 -0.253746 -0.415527 -0.090082  0.001485  0.030737   \n",
              "wifi          -0.649265  0.092997  0.247151  0.020334  0.027448  0.006878   \n",
              "price_range   -0.055454  0.030455 -0.175517 -0.614209 -0.044578  0.009195   \n",
              "\n",
              "                   PC19      PC20  \n",
              "battery_power -0.002169  0.002215  \n",
              "blue           0.015493  0.009620  \n",
              "clock_speed   -0.015639  0.013659  \n",
              "dual_sim       0.011786  0.003160  \n",
              "fc             0.026525 -0.415125  \n",
              "four_g        -0.445937 -0.025109  \n",
              "int_memory     0.001296 -0.000603  \n",
              "m_dep         -0.000176  0.001782  \n",
              "mobile_wt     -0.005715 -0.000284  \n",
              "n_cores       -0.014388  0.000598  \n",
              "pc            -0.030388  0.417536  \n",
              "px_height      0.047178  0.026989  \n",
              "px_width      -0.036751 -0.023060  \n",
              "sc_h          -0.010541 -0.032136  \n",
              "sc_w           0.019291  0.039441  \n",
              "talk_time      0.008574 -0.004605  \n",
              "three_g        0.447292  0.021546  \n",
              "touch_screen   0.025379 -0.006676  \n",
              "wifi          -0.024646  0.008891  \n",
              "price_range   -0.011195 -0.010070  "
            ],
            "text/html": [
              "\n",
              "  <div id=\"df-f9ea6166-8bb7-4f71-9298-adac86342d98\">\n",
              "    <div class=\"colab-df-container\">\n",
              "      <div>\n",
              "<style scoped>\n",
              "    .dataframe tbody tr th:only-of-type {\n",
              "        vertical-align: middle;\n",
              "    }\n",
              "\n",
              "    .dataframe tbody tr th {\n",
              "        vertical-align: top;\n",
              "    }\n",
              "\n",
              "    .dataframe thead th {\n",
              "        text-align: right;\n",
              "    }\n",
              "</style>\n",
              "<table border=\"1\" class=\"dataframe\">\n",
              "  <thead>\n",
              "    <tr style=\"text-align: right;\">\n",
              "      <th></th>\n",
              "      <th>PC1</th>\n",
              "      <th>PC2</th>\n",
              "      <th>PC3</th>\n",
              "      <th>PC4</th>\n",
              "      <th>PC5</th>\n",
              "      <th>PC6</th>\n",
              "      <th>PC7</th>\n",
              "      <th>PC8</th>\n",
              "      <th>PC9</th>\n",
              "      <th>PC10</th>\n",
              "      <th>PC11</th>\n",
              "      <th>PC12</th>\n",
              "      <th>PC13</th>\n",
              "      <th>PC14</th>\n",
              "      <th>PC15</th>\n",
              "      <th>PC16</th>\n",
              "      <th>PC17</th>\n",
              "      <th>PC18</th>\n",
              "      <th>PC19</th>\n",
              "      <th>PC20</th>\n",
              "    </tr>\n",
              "  </thead>\n",
              "  <tbody>\n",
              "    <tr>\n",
              "      <th>battery_power</th>\n",
              "      <td>0.079372</td>\n",
              "      <td>-0.203524</td>\n",
              "      <td>0.090712</td>\n",
              "      <td>-0.148408</td>\n",
              "      <td>-0.607054</td>\n",
              "      <td>-0.057333</td>\n",
              "      <td>-0.159200</td>\n",
              "      <td>0.169001</td>\n",
              "      <td>0.304985</td>\n",
              "      <td>0.261790</td>\n",
              "      <td>0.015625</td>\n",
              "      <td>-0.052196</td>\n",
              "      <td>-0.233713</td>\n",
              "      <td>-0.157207</td>\n",
              "      <td>-0.033889</td>\n",
              "      <td>0.500069</td>\n",
              "      <td>0.041769</td>\n",
              "      <td>0.012555</td>\n",
              "      <td>-0.002169</td>\n",
              "      <td>0.002215</td>\n",
              "    </tr>\n",
              "    <tr>\n",
              "      <th>blue</th>\n",
              "      <td>-0.023660</td>\n",
              "      <td>0.050149</td>\n",
              "      <td>0.039026</td>\n",
              "      <td>-0.019209</td>\n",
              "      <td>-0.319075</td>\n",
              "      <td>0.158248</td>\n",
              "      <td>0.460958</td>\n",
              "      <td>0.277602</td>\n",
              "      <td>-0.431206</td>\n",
              "      <td>-0.126885</td>\n",
              "      <td>-0.298249</td>\n",
              "      <td>0.027922</td>\n",
              "      <td>-0.020068</td>\n",
              "      <td>-0.414253</td>\n",
              "      <td>0.333912</td>\n",
              "      <td>-0.039711</td>\n",
              "      <td>0.040237</td>\n",
              "      <td>0.022323</td>\n",
              "      <td>0.015493</td>\n",
              "      <td>0.009620</td>\n",
              "    </tr>\n",
              "    <tr>\n",
              "      <th>clock_speed</th>\n",
              "      <td>0.047376</td>\n",
              "      <td>0.084637</td>\n",
              "      <td>0.059997</td>\n",
              "      <td>0.038072</td>\n",
              "      <td>-0.042979</td>\n",
              "      <td>0.233272</td>\n",
              "      <td>0.209672</td>\n",
              "      <td>-0.316392</td>\n",
              "      <td>0.464066</td>\n",
              "      <td>-0.052940</td>\n",
              "      <td>-0.577152</td>\n",
              "      <td>-0.301173</td>\n",
              "      <td>-0.134126</td>\n",
              "      <td>0.265952</td>\n",
              "      <td>0.229111</td>\n",
              "      <td>-0.043872</td>\n",
              "      <td>0.015009</td>\n",
              "      <td>0.010913</td>\n",
              "      <td>-0.015639</td>\n",
              "      <td>0.013659</td>\n",
              "    </tr>\n",
              "    <tr>\n",
              "      <th>dual_sim</th>\n",
              "      <td>-0.056615</td>\n",
              "      <td>0.064865</td>\n",
              "      <td>-0.006611</td>\n",
              "      <td>-0.082787</td>\n",
              "      <td>0.129266</td>\n",
              "      <td>-0.371361</td>\n",
              "      <td>0.488085</td>\n",
              "      <td>0.323373</td>\n",
              "      <td>-0.099936</td>\n",
              "      <td>0.247129</td>\n",
              "      <td>-0.000163</td>\n",
              "      <td>-0.466047</td>\n",
              "      <td>0.235869</td>\n",
              "      <td>0.293890</td>\n",
              "      <td>-0.162875</td>\n",
              "      <td>0.173420</td>\n",
              "      <td>-0.037586</td>\n",
              "      <td>-0.022623</td>\n",
              "      <td>0.011786</td>\n",
              "      <td>0.003160</td>\n",
              "    </tr>\n",
              "    <tr>\n",
              "      <th>fc</th>\n",
              "      <td>0.766265</td>\n",
              "      <td>-0.419807</td>\n",
              "      <td>-0.005707</td>\n",
              "      <td>0.206386</td>\n",
              "      <td>0.053132</td>\n",
              "      <td>0.015167</td>\n",
              "      <td>0.045736</td>\n",
              "      <td>-0.009939</td>\n",
              "      <td>-0.049080</td>\n",
              "      <td>-0.025331</td>\n",
              "      <td>-0.049061</td>\n",
              "      <td>-0.040159</td>\n",
              "      <td>0.061673</td>\n",
              "      <td>-0.016746</td>\n",
              "      <td>-0.021383</td>\n",
              "      <td>0.010553</td>\n",
              "      <td>-0.008870</td>\n",
              "      <td>-0.067541</td>\n",
              "      <td>0.026525</td>\n",
              "      <td>-0.415125</td>\n",
              "    </tr>\n",
              "    <tr>\n",
              "      <th>four_g</th>\n",
              "      <td>-0.256069</td>\n",
              "      <td>-0.526291</td>\n",
              "      <td>-0.621255</td>\n",
              "      <td>-0.224697</td>\n",
              "      <td>0.048304</td>\n",
              "      <td>0.074649</td>\n",
              "      <td>0.031651</td>\n",
              "      <td>0.005592</td>\n",
              "      <td>-0.036491</td>\n",
              "      <td>-0.046549</td>\n",
              "      <td>-0.029086</td>\n",
              "      <td>-0.040549</td>\n",
              "      <td>-0.030045</td>\n",
              "      <td>0.013180</td>\n",
              "      <td>0.033851</td>\n",
              "      <td>0.020373</td>\n",
              "      <td>-0.059339</td>\n",
              "      <td>-0.033028</td>\n",
              "      <td>-0.445937</td>\n",
              "      <td>-0.025109</td>\n",
              "    </tr>\n",
              "    <tr>\n",
              "      <th>int_memory</th>\n",
              "      <td>-0.064736</td>\n",
              "      <td>-0.000133</td>\n",
              "      <td>0.000341</td>\n",
              "      <td>0.064527</td>\n",
              "      <td>-0.368352</td>\n",
              "      <td>-0.183602</td>\n",
              "      <td>0.216914</td>\n",
              "      <td>-0.441786</td>\n",
              "      <td>-0.307393</td>\n",
              "      <td>-0.471472</td>\n",
              "      <td>-0.031866</td>\n",
              "      <td>0.073038</td>\n",
              "      <td>-0.160694</td>\n",
              "      <td>0.200316</td>\n",
              "      <td>-0.401960</td>\n",
              "      <td>0.169898</td>\n",
              "      <td>0.031570</td>\n",
              "      <td>-0.013524</td>\n",
              "      <td>0.001296</td>\n",
              "      <td>-0.000603</td>\n",
              "    </tr>\n",
              "    <tr>\n",
              "      <th>m_dep</th>\n",
              "      <td>0.101812</td>\n",
              "      <td>-0.025894</td>\n",
              "      <td>-0.000643</td>\n",
              "      <td>-0.038000</td>\n",
              "      <td>-0.151057</td>\n",
              "      <td>0.193508</td>\n",
              "      <td>0.464690</td>\n",
              "      <td>0.201208</td>\n",
              "      <td>0.317858</td>\n",
              "      <td>-0.158173</td>\n",
              "      <td>0.445176</td>\n",
              "      <td>0.421876</td>\n",
              "      <td>0.004303</td>\n",
              "      <td>0.359871</td>\n",
              "      <td>0.198060</td>\n",
              "      <td>-0.011544</td>\n",
              "      <td>0.000002</td>\n",
              "      <td>-0.019926</td>\n",
              "      <td>-0.000176</td>\n",
              "      <td>0.001782</td>\n",
              "    </tr>\n",
              "    <tr>\n",
              "      <th>mobile_wt</th>\n",
              "      <td>0.051575</td>\n",
              "      <td>0.008087</td>\n",
              "      <td>0.072132</td>\n",
              "      <td>-0.049669</td>\n",
              "      <td>0.305925</td>\n",
              "      <td>-0.035819</td>\n",
              "      <td>-0.055464</td>\n",
              "      <td>0.565738</td>\n",
              "      <td>0.061346</td>\n",
              "      <td>-0.214615</td>\n",
              "      <td>-0.333203</td>\n",
              "      <td>0.183973</td>\n",
              "      <td>-0.522783</td>\n",
              "      <td>0.101179</td>\n",
              "      <td>-0.303447</td>\n",
              "      <td>-0.042226</td>\n",
              "      <td>0.005188</td>\n",
              "      <td>0.010377</td>\n",
              "      <td>-0.005715</td>\n",
              "      <td>-0.000284</td>\n",
              "    </tr>\n",
              "    <tr>\n",
              "      <th>n_cores</th>\n",
              "      <td>-0.033406</td>\n",
              "      <td>0.013462</td>\n",
              "      <td>0.066818</td>\n",
              "      <td>0.012360</td>\n",
              "      <td>-0.090942</td>\n",
              "      <td>0.502857</td>\n",
              "      <td>-0.030401</td>\n",
              "      <td>-0.015132</td>\n",
              "      <td>-0.301938</td>\n",
              "      <td>0.495076</td>\n",
              "      <td>-0.287978</td>\n",
              "      <td>0.345190</td>\n",
              "      <td>0.187453</td>\n",
              "      <td>0.302970</td>\n",
              "      <td>-0.232414</td>\n",
              "      <td>0.087795</td>\n",
              "      <td>-0.072353</td>\n",
              "      <td>-0.003743</td>\n",
              "      <td>-0.014388</td>\n",
              "      <td>0.000598</td>\n",
              "    </tr>\n",
              "    <tr>\n",
              "      <th>pc</th>\n",
              "      <td>0.768178</td>\n",
              "      <td>-0.424898</td>\n",
              "      <td>-0.018086</td>\n",
              "      <td>0.187885</td>\n",
              "      <td>0.045424</td>\n",
              "      <td>0.010895</td>\n",
              "      <td>0.019090</td>\n",
              "      <td>0.001174</td>\n",
              "      <td>-0.054911</td>\n",
              "      <td>-0.033059</td>\n",
              "      <td>-0.019823</td>\n",
              "      <td>-0.040754</td>\n",
              "      <td>0.082625</td>\n",
              "      <td>-0.010609</td>\n",
              "      <td>-0.050643</td>\n",
              "      <td>-0.008563</td>\n",
              "      <td>0.006968</td>\n",
              "      <td>0.028435</td>\n",
              "      <td>-0.030388</td>\n",
              "      <td>0.417536</td>\n",
              "    </tr>\n",
              "    <tr>\n",
              "      <th>px_height</th>\n",
              "      <td>-0.181421</td>\n",
              "      <td>-0.398238</td>\n",
              "      <td>0.600381</td>\n",
              "      <td>-0.294853</td>\n",
              "      <td>0.189899</td>\n",
              "      <td>0.076565</td>\n",
              "      <td>0.029241</td>\n",
              "      <td>-0.071153</td>\n",
              "      <td>0.001455</td>\n",
              "      <td>-0.183591</td>\n",
              "      <td>-0.007836</td>\n",
              "      <td>-0.005174</td>\n",
              "      <td>0.050914</td>\n",
              "      <td>-0.085529</td>\n",
              "      <td>0.061342</td>\n",
              "      <td>0.149681</td>\n",
              "      <td>-0.454255</td>\n",
              "      <td>-0.186415</td>\n",
              "      <td>0.047178</td>\n",
              "      <td>0.026989</td>\n",
              "    </tr>\n",
              "    <tr>\n",
              "      <th>px_width</th>\n",
              "      <td>-0.177343</td>\n",
              "      <td>-0.440441</td>\n",
              "      <td>0.545312</td>\n",
              "      <td>-0.342297</td>\n",
              "      <td>0.220887</td>\n",
              "      <td>0.093003</td>\n",
              "      <td>0.000275</td>\n",
              "      <td>-0.030101</td>\n",
              "      <td>-0.036906</td>\n",
              "      <td>-0.100367</td>\n",
              "      <td>-0.005688</td>\n",
              "      <td>0.000006</td>\n",
              "      <td>0.172577</td>\n",
              "      <td>0.043151</td>\n",
              "      <td>0.005059</td>\n",
              "      <td>0.081911</td>\n",
              "      <td>0.470449</td>\n",
              "      <td>0.171160</td>\n",
              "      <td>-0.036751</td>\n",
              "      <td>-0.023060</td>\n",
              "    </tr>\n",
              "    <tr>\n",
              "      <th>sc_h</th>\n",
              "      <td>-0.344170</td>\n",
              "      <td>-0.312818</td>\n",
              "      <td>0.118395</td>\n",
              "      <td>0.712106</td>\n",
              "      <td>-0.019577</td>\n",
              "      <td>-0.009315</td>\n",
              "      <td>-0.002638</td>\n",
              "      <td>0.092233</td>\n",
              "      <td>0.034377</td>\n",
              "      <td>-0.048448</td>\n",
              "      <td>0.017511</td>\n",
              "      <td>-0.025602</td>\n",
              "      <td>0.026469</td>\n",
              "      <td>0.035985</td>\n",
              "      <td>0.031912</td>\n",
              "      <td>0.053477</td>\n",
              "      <td>-0.177228</td>\n",
              "      <td>0.459723</td>\n",
              "      <td>-0.010541</td>\n",
              "      <td>-0.032136</td>\n",
              "    </tr>\n",
              "    <tr>\n",
              "      <th>sc_w</th>\n",
              "      <td>-0.407810</td>\n",
              "      <td>-0.297697</td>\n",
              "      <td>0.082287</td>\n",
              "      <td>0.688910</td>\n",
              "      <td>-0.017278</td>\n",
              "      <td>0.036489</td>\n",
              "      <td>-0.003841</td>\n",
              "      <td>0.100512</td>\n",
              "      <td>0.052261</td>\n",
              "      <td>0.019315</td>\n",
              "      <td>-0.014034</td>\n",
              "      <td>-0.022986</td>\n",
              "      <td>0.016341</td>\n",
              "      <td>-0.005843</td>\n",
              "      <td>-0.006958</td>\n",
              "      <td>0.002340</td>\n",
              "      <td>0.196758</td>\n",
              "      <td>-0.455843</td>\n",
              "      <td>0.019291</td>\n",
              "      <td>0.039441</td>\n",
              "    </tr>\n",
              "    <tr>\n",
              "      <th>talk_time</th>\n",
              "      <td>0.052097</td>\n",
              "      <td>0.025928</td>\n",
              "      <td>0.075811</td>\n",
              "      <td>-0.058338</td>\n",
              "      <td>-0.291987</td>\n",
              "      <td>0.223955</td>\n",
              "      <td>-0.443566</td>\n",
              "      <td>0.263441</td>\n",
              "      <td>-0.321886</td>\n",
              "      <td>-0.246252</td>\n",
              "      <td>0.138294</td>\n",
              "      <td>-0.380601</td>\n",
              "      <td>-0.047706</td>\n",
              "      <td>0.436689</td>\n",
              "      <td>0.244542</td>\n",
              "      <td>-0.065012</td>\n",
              "      <td>-0.016727</td>\n",
              "      <td>-0.030947</td>\n",
              "      <td>0.008574</td>\n",
              "      <td>-0.004605</td>\n",
              "    </tr>\n",
              "    <tr>\n",
              "      <th>three_g</th>\n",
              "      <td>-0.230317</td>\n",
              "      <td>-0.536768</td>\n",
              "      <td>-0.619512</td>\n",
              "      <td>-0.229697</td>\n",
              "      <td>0.057536</td>\n",
              "      <td>0.050692</td>\n",
              "      <td>0.010194</td>\n",
              "      <td>-0.030958</td>\n",
              "      <td>-0.028389</td>\n",
              "      <td>0.007656</td>\n",
              "      <td>-0.056886</td>\n",
              "      <td>0.000948</td>\n",
              "      <td>-0.059629</td>\n",
              "      <td>0.064732</td>\n",
              "      <td>0.045150</td>\n",
              "      <td>0.002795</td>\n",
              "      <td>0.014348</td>\n",
              "      <td>0.036995</td>\n",
              "      <td>0.447292</td>\n",
              "      <td>0.021546</td>\n",
              "    </tr>\n",
              "    <tr>\n",
              "      <th>touch_screen</th>\n",
              "      <td>-0.024248</td>\n",
              "      <td>0.058229</td>\n",
              "      <td>-0.015472</td>\n",
              "      <td>-0.001656</td>\n",
              "      <td>0.021421</td>\n",
              "      <td>0.649164</td>\n",
              "      <td>0.193661</td>\n",
              "      <td>0.010209</td>\n",
              "      <td>0.095671</td>\n",
              "      <td>-0.025460</td>\n",
              "      <td>0.319181</td>\n",
              "      <td>-0.401761</td>\n",
              "      <td>-0.130672</td>\n",
              "      <td>-0.253746</td>\n",
              "      <td>-0.415527</td>\n",
              "      <td>-0.090082</td>\n",
              "      <td>0.001485</td>\n",
              "      <td>0.030737</td>\n",
              "      <td>0.025379</td>\n",
              "      <td>-0.006676</td>\n",
              "    </tr>\n",
              "    <tr>\n",
              "      <th>wifi</th>\n",
              "      <td>0.033842</td>\n",
              "      <td>-0.095441</td>\n",
              "      <td>0.168156</td>\n",
              "      <td>0.070138</td>\n",
              "      <td>0.233530</td>\n",
              "      <td>-0.046742</td>\n",
              "      <td>0.158515</td>\n",
              "      <td>-0.264017</td>\n",
              "      <td>-0.304090</td>\n",
              "      <td>0.397448</td>\n",
              "      <td>0.243563</td>\n",
              "      <td>-0.052225</td>\n",
              "      <td>-0.649265</td>\n",
              "      <td>0.092997</td>\n",
              "      <td>0.247151</td>\n",
              "      <td>0.020334</td>\n",
              "      <td>0.027448</td>\n",
              "      <td>0.006878</td>\n",
              "      <td>-0.024646</td>\n",
              "      <td>0.008891</td>\n",
              "    </tr>\n",
              "    <tr>\n",
              "      <th>price_range</th>\n",
              "      <td>-0.088663</td>\n",
              "      <td>-0.374648</td>\n",
              "      <td>0.276073</td>\n",
              "      <td>-0.173647</td>\n",
              "      <td>-0.455526</td>\n",
              "      <td>-0.245764</td>\n",
              "      <td>0.046478</td>\n",
              "      <td>0.015303</td>\n",
              "      <td>0.083624</td>\n",
              "      <td>0.232184</td>\n",
              "      <td>-0.018628</td>\n",
              "      <td>-0.012968</td>\n",
              "      <td>-0.055454</td>\n",
              "      <td>0.030455</td>\n",
              "      <td>-0.175517</td>\n",
              "      <td>-0.614209</td>\n",
              "      <td>-0.044578</td>\n",
              "      <td>0.009195</td>\n",
              "      <td>-0.011195</td>\n",
              "      <td>-0.010070</td>\n",
              "    </tr>\n",
              "  </tbody>\n",
              "</table>\n",
              "</div>\n",
              "      <button class=\"colab-df-convert\" onclick=\"convertToInteractive('df-f9ea6166-8bb7-4f71-9298-adac86342d98')\"\n",
              "              title=\"Convert this dataframe to an interactive table.\"\n",
              "              style=\"display:none;\">\n",
              "        \n",
              "  <svg xmlns=\"http://www.w3.org/2000/svg\" height=\"24px\"viewBox=\"0 0 24 24\"\n",
              "       width=\"24px\">\n",
              "    <path d=\"M0 0h24v24H0V0z\" fill=\"none\"/>\n",
              "    <path d=\"M18.56 5.44l.94 2.06.94-2.06 2.06-.94-2.06-.94-.94-2.06-.94 2.06-2.06.94zm-11 1L8.5 8.5l.94-2.06 2.06-.94-2.06-.94L8.5 2.5l-.94 2.06-2.06.94zm10 10l.94 2.06.94-2.06 2.06-.94-2.06-.94-.94-2.06-.94 2.06-2.06.94z\"/><path d=\"M17.41 7.96l-1.37-1.37c-.4-.4-.92-.59-1.43-.59-.52 0-1.04.2-1.43.59L10.3 9.45l-7.72 7.72c-.78.78-.78 2.05 0 2.83L4 21.41c.39.39.9.59 1.41.59.51 0 1.02-.2 1.41-.59l7.78-7.78 2.81-2.81c.8-.78.8-2.07 0-2.86zM5.41 20L4 18.59l7.72-7.72 1.47 1.35L5.41 20z\"/>\n",
              "  </svg>\n",
              "      </button>\n",
              "      \n",
              "  <style>\n",
              "    .colab-df-container {\n",
              "      display:flex;\n",
              "      flex-wrap:wrap;\n",
              "      gap: 12px;\n",
              "    }\n",
              "\n",
              "    .colab-df-convert {\n",
              "      background-color: #E8F0FE;\n",
              "      border: none;\n",
              "      border-radius: 50%;\n",
              "      cursor: pointer;\n",
              "      display: none;\n",
              "      fill: #1967D2;\n",
              "      height: 32px;\n",
              "      padding: 0 0 0 0;\n",
              "      width: 32px;\n",
              "    }\n",
              "\n",
              "    .colab-df-convert:hover {\n",
              "      background-color: #E2EBFA;\n",
              "      box-shadow: 0px 1px 2px rgba(60, 64, 67, 0.3), 0px 1px 3px 1px rgba(60, 64, 67, 0.15);\n",
              "      fill: #174EA6;\n",
              "    }\n",
              "\n",
              "    [theme=dark] .colab-df-convert {\n",
              "      background-color: #3B4455;\n",
              "      fill: #D2E3FC;\n",
              "    }\n",
              "\n",
              "    [theme=dark] .colab-df-convert:hover {\n",
              "      background-color: #434B5C;\n",
              "      box-shadow: 0px 1px 3px 1px rgba(0, 0, 0, 0.15);\n",
              "      filter: drop-shadow(0px 1px 2px rgba(0, 0, 0, 0.3));\n",
              "      fill: #FFFFFF;\n",
              "    }\n",
              "  </style>\n",
              "\n",
              "      <script>\n",
              "        const buttonEl =\n",
              "          document.querySelector('#df-f9ea6166-8bb7-4f71-9298-adac86342d98 button.colab-df-convert');\n",
              "        buttonEl.style.display =\n",
              "          google.colab.kernel.accessAllowed ? 'block' : 'none';\n",
              "\n",
              "        async function convertToInteractive(key) {\n",
              "          const element = document.querySelector('#df-f9ea6166-8bb7-4f71-9298-adac86342d98');\n",
              "          const dataTable =\n",
              "            await google.colab.kernel.invokeFunction('convertToInteractive',\n",
              "                                                     [key], {});\n",
              "          if (!dataTable) return;\n",
              "\n",
              "          const docLinkHtml = 'Like what you see? Visit the ' +\n",
              "            '<a target=\"_blank\" href=https://colab.research.google.com/notebooks/data_table.ipynb>data table notebook</a>'\n",
              "            + ' to learn more about interactive tables.';\n",
              "          element.innerHTML = '';\n",
              "          dataTable['output_type'] = 'display_data';\n",
              "          await google.colab.output.renderOutput(dataTable, element);\n",
              "          const docLink = document.createElement('div');\n",
              "          docLink.innerHTML = docLinkHtml;\n",
              "          element.appendChild(docLink);\n",
              "        }\n",
              "      </script>\n",
              "    </div>\n",
              "  </div>\n",
              "  "
            ]
          },
          "metadata": {},
          "execution_count": 44
        }
      ]
    },
    {
      "cell_type": "code",
      "source": [
        "pc1_loadings = loadings.sort_values(by='PC1', ascending=False)[['PC1']]\n",
        "pc1_loadings = pc1_loadings.reset_index()\n",
        "pc1_loadings.columns = ['Attribute', 'CorrelationWithPC1']\n",
        "\n",
        "plt.bar(x=pc1_loadings['Attribute'], height=pc1_loadings['CorrelationWithPC1'], color='#087E8B')\n",
        "plt.title('PCA loading scores (first principal component)', size=20)\n",
        "plt.xticks(rotation='vertical')\n",
        "plt.show()"
      ],
      "metadata": {
        "colab": {
          "base_uri": "https://localhost:8080/",
          "height": 348
        },
        "id": "k65xD7yAywlI",
        "outputId": "4b3c500c-98e8-4dc9-f795-a16cbf8acbf9"
      },
      "execution_count": null,
      "outputs": [
        {
          "output_type": "display_data",
          "data": {
            "text/plain": [
              "<Figure size 432x288 with 1 Axes>"
            ],
            "image/png": "[encoded data removed]"
          },
          "metadata": {
            "needs_background": "light"
          }
        }
      ]
    },
    {
      "cell_type": "markdown",
      "source": [
        "From the PCA, categorical features the columns blue,n_core,dual_sim,int_memory,price_range,px_width,three_g,four_g,sc_h,and sc_w."
      ],
      "metadata": {
        "id": "xENtpTfJz73U"
      }
    },
    {
      "cell_type": "markdown",
      "source": [
        "##To Check balance & imbalance data"
      ],
      "metadata": {
        "id": "hQCgKzWDUKRK"
      }
    },
    {
      "cell_type": "code",
      "source": [
        "#To check the balance and imbalance Data\n",
        "\n",
        "import seaborn as seaborns\n",
        "sns.countplot(dcopy_new['price_range'])\n",
        "\n"
      ],
      "metadata": {
        "colab": {
          "base_uri": "https://localhost:8080/",
          "height": 352
        },
        "id": "GJ3wcvkLUIKP",
        "outputId": "1b75b1f1-86e4-4152-8721-bba4a5ca1298"
      },
      "execution_count": null,
      "outputs": [
        {
          "output_type": "stream",
          "name": "stderr",
          "text": [
            "/usr/local/lib/python3.7/dist-packages/seaborn/_decorators.py:43: FutureWarning: Pass the following variable as a keyword arg: x. From version 0.12, the only valid positional argument will be `data`, and passing other arguments without an explicit keyword will result in an error or misinterpretation.\n",
            "  FutureWarning\n"
          ]
        },
        {
          "output_type": "execute_result",
          "data": {
            "text/plain": [
              "<matplotlib.axes._subplots.AxesSubplot at 0x7f160f9e05d0>"
            ]
          },
          "metadata": {},
          "execution_count": 61
        },
        {
          "output_type": "display_data",
          "data": {
            "text/plain": [
              "<Figure size 432x288 with 1 Axes>"
            ],
            "image/png": "[encoded data removed]"
          },
          "metadata": {
            "needs_background": "light"
          }
        }
      ]
    },
    {
      "cell_type": "markdown",
      "source": [
        "## Conclusion:\n",
        "Data is balance dataset after perform checking.\n",
        "So,not required to do oversampling/undersampling.\n",
        "\n",
        "But need to check the accuracy."
      ],
      "metadata": {
        "id": "ijnc6NyiXgC4"
      }
    },
    {
      "cell_type": "markdown",
      "source": [
        "## Accuracy\n",
        "#### Model Evaluation using Confusion Matrix"
      ],
      "metadata": {
        "id": "sxWWDEGlYILT"
      }
    },
    {
      "cell_type": "code",
      "source": [
        "dcopy_new.columns"
      ],
      "metadata": {
        "colab": {
          "base_uri": "https://localhost:8080/"
        },
        "id": "3k6exrn9cV4c",
        "outputId": "1c698a0b-56ec-428d-9cbd-87338ff9901a"
      },
      "execution_count": null,
      "outputs": [
        {
          "output_type": "execute_result",
          "data": {
            "text/plain": [
              "Index(['battery_power', 'blue', 'clock_speed', 'dual_sim', 'fc', 'four_g',\n",
              "       'int_memory', 'm_dep', 'mobile_wt', 'n_cores', 'pc', 'px_height',\n",
              "       'px_width', 'ram', 'sc_h', 'sc_w', 'talk_time', 'three_g',\n",
              "       'touch_screen', 'wifi', 'price_range'],\n",
              "      dtype='object')"
            ]
          },
          "metadata": {},
          "execution_count": 47
        }
      ]
    },
    {
      "cell_type": "code",
      "source": [
        "#Identify columns not needed for analysis\n",
        "useless_col = ['battery_power', 'blue', 'clock_speed', 'dual_sim', 'fc', 'four_g',\n",
        "       'int_memory', 'm_dep', 'mobile_wt', 'n_cores', 'pc', 'px_height',\n",
        "       'px_width', 'ram', 'sc_h', 'sc_w', 'talk_time', 'three_g',\n",
        "       'touch_screen', 'wifi']\n",
        "\n",
        "data_modelling = dcopy_new.drop(useless_col, axis = 1)\n",
        "# convert the 'Date' column to datetime format\n",
        "\n",
        "#data_modelling= data_modelling.drop(['reservation_status_date','arrival_date_month'] , axis = 1)"
      ],
      "metadata": {
        "id": "MSc-dyIVcPML"
      },
      "execution_count": null,
      "outputs": []
    },
    {
      "cell_type": "code",
      "source": [
        "y = data_modelling['price_range']\n",
        "X1 = data_modelling.drop('price_range', axis = 1)\n",
        "X2 = pd.get_dummies(data_modelling)\n",
        "X_train1, X_test1, y_train1, y_test1 = train_test_split(X1,y,random_state=42,test_size=0.43)\n",
        "X_train2, X_test2, y_train2, y_test2 = train_test_split(X2,y,random_state=42,test_size=0.43)"
      ],
      "metadata": {
        "id": "vuZ11n7WcAPu"
      },
      "execution_count": null,
      "outputs": []
    },
    {
      "cell_type": "code",
      "source": [
        "# import the metrics class\n",
        "\n",
        "algorithms = ['Random Forest', 'Decision Tree', 'Support Vector Machine']\n",
        "metrics    = ['Confusion Matrix', 'Classification Report','Accuracy']\n",
        "train_scores = {}\n",
        "pd.set_option('display.max_rows', 10)"
      ],
      "metadata": {
        "id": "YnpM77CSZEPx"
      },
      "execution_count": null,
      "outputs": []
    },
    {
      "cell_type": "code",
      "source": [
        "def algorithm_validation(Algorithm=algorithms, Metrics=metrics):        \n",
        "    if Algorithm == 'Random Forest':\n",
        "        model = RandomForestClassifier(max_depth=2, random_state=0)\n",
        "        model.fit(X_train2, y_train1) \n",
        "        y_pred = model.predict(X_test2)\n",
        "        X_test1['Predict'] = model.predict(X_test2)\n",
        "        \n",
        "    elif Algorithm == 'Decision Tree':\n",
        "        model = DecisionTreeClassifier(random_state=0)\n",
        "        model.fit(X_train2, y_train1) \n",
        "        y_pred = model.predict(X_test2)\n",
        "        X_test1['Predict'] = model.predict(X_test2)\n",
        "    \n",
        "    elif Algorithm == 'Support Vector Machine':\n",
        "        model = SVC(kernel='linear')\n",
        "        model.fit(X_train2, y_train1) \n",
        "        y_pred = model.predict(X_test2)\n",
        "        X_test1['Predict'] = model.predict(X_test2)\n",
        "        \n",
        "    if Metrics == 'Classification Report':\n",
        "        score = classification_report(y_test2, y_pred)\n",
        "        \n",
        "    elif Metrics == 'Accuracy':\n",
        "        score = accuracy_score(y_test2, y_pred)\n",
        "        \n",
        "    elif Metrics == 'Confusion Matrix':\n",
        "        plot_confusion_matrix(model, X_test2, y_test2)\n",
        "        score = confusion_matrix(y_test2, y_pred)\n",
        "        \n",
        "    return print('\\nThe ' + Metrics + ' of ' + Algorithm + ' is:\\n\\n'+ str(score) + '\\n')"
      ],
      "metadata": {
        "id": "7G76Ye_QbidK"
      },
      "execution_count": null,
      "outputs": []
    },
    {
      "cell_type": "code",
      "source": [
        "algorithms = ['Random Forest', 'Decision Tree', 'Support Vector Machine']\n",
        "metrics    = ['Confusion Matrix', 'Classification Report','Accuracy']\n",
        "algorithm_validation('Random Forest','Classification Report')"
      ],
      "metadata": {
        "colab": {
          "base_uri": "https://localhost:8080/"
        },
        "id": "WFKgYIQYbpvv",
        "outputId": "0e76640b-57bb-4f56-8df4-9f97ad5dc05d"
      },
      "execution_count": null,
      "outputs": [
        {
          "output_type": "stream",
          "name": "stdout",
          "text": [
            "\n",
            "The Classification Report of Random Forest is:\n",
            "\n",
            "              precision    recall  f1-score   support\n",
            "\n",
            "           0       1.00      1.00      1.00       216\n",
            "           1       1.00      1.00      1.00       213\n",
            "           2       1.00      1.00      1.00       215\n",
            "           3       1.00      1.00      1.00       216\n",
            "\n",
            "    accuracy                           1.00       860\n",
            "   macro avg       1.00      1.00      1.00       860\n",
            "weighted avg       1.00      1.00      1.00       860\n",
            "\n",
            "\n"
          ]
        }
      ]
    },
    {
      "cell_type": "code",
      "source": [
        "algorithm_validation('Decision Tree','Classification Report')"
      ],
      "metadata": {
        "colab": {
          "base_uri": "https://localhost:8080/"
        },
        "id": "TV3fZtwXd2f5",
        "outputId": "2286833f-ad16-42ed-bf2e-9134ca0fa0c3"
      },
      "execution_count": null,
      "outputs": [
        {
          "output_type": "stream",
          "name": "stdout",
          "text": [
            "\n",
            "The Classification Report of Decision Tree is:\n",
            "\n",
            "              precision    recall  f1-score   support\n",
            "\n",
            "           0       1.00      1.00      1.00       216\n",
            "           1       1.00      1.00      1.00       213\n",
            "           2       1.00      1.00      1.00       215\n",
            "           3       1.00      1.00      1.00       216\n",
            "\n",
            "    accuracy                           1.00       860\n",
            "   macro avg       1.00      1.00      1.00       860\n",
            "weighted avg       1.00      1.00      1.00       860\n",
            "\n",
            "\n"
          ]
        }
      ]
    },
    {
      "cell_type": "code",
      "source": [
        "algorithm_validation('Support Vector Machine','Classification Report')"
      ],
      "metadata": {
        "colab": {
          "base_uri": "https://localhost:8080/"
        },
        "id": "Tqq15aPhd6-G",
        "outputId": "62e6839f-c93c-424a-8b98-91f407cb28bb"
      },
      "execution_count": null,
      "outputs": [
        {
          "output_type": "stream",
          "name": "stdout",
          "text": [
            "\n",
            "The Classification Report of Support Vector Machine is:\n",
            "\n",
            "              precision    recall  f1-score   support\n",
            "\n",
            "           0       1.00      1.00      1.00       216\n",
            "           1       1.00      1.00      1.00       213\n",
            "           2       1.00      1.00      1.00       215\n",
            "           3       1.00      1.00      1.00       216\n",
            "\n",
            "    accuracy                           1.00       860\n",
            "   macro avg       1.00      1.00      1.00       860\n",
            "weighted avg       1.00      1.00      1.00       860\n",
            "\n",
            "\n"
          ]
        }
      ]
    },
    {
      "cell_type": "code",
      "source": [
        "from sklearn.tree import DecisionTreeClassifier\n",
        "dtree = DecisionTreeClassifier()\n",
        "dtree.fit(X_train,y_train)\n",
        "dtree.score(X_test,y_test)"
      ],
      "metadata": {
        "colab": {
          "base_uri": "https://localhost:8080/"
        },
        "id": "CtvlCi6grniO",
        "outputId": "6b58e1df-40c7-4507-f121-ee8af4a561ae"
      },
      "execution_count": null,
      "outputs": [
        {
          "output_type": "execute_result",
          "data": {
            "text/plain": [
              "1.0"
            ]
          },
          "metadata": {},
          "execution_count": 55
        }
      ]
    },
    {
      "cell_type": "markdown",
      "source": [
        "Classification Report, Accuracy, & Confusion Matrix of Random Forest (RF) ,Decision Tree (DT) and Support Vector Machine (SVM) have accuracies of 100%. This means that all model are the best model as it can generalise data prediction for booking cancellationvery well while DT & SVM are overfitted model that could not predict booking cancellation very well when it sees unseen data. Therefore, Random Forest model is the most suitable for deployment on predicting new datasets."
      ],
      "metadata": {
        "id": "5cz5C3wueBRU"
      }
    },
    {
      "cell_type": "markdown",
      "source": [
        "## Develop a model to Mobile Phone price and explain the model as well as it’s output.\n",
        "\n",
        "## Machine Learning \n",
        "\n",
        "Split the data train and test\n",
        "\n",
        "Create the model\n",
        "\n",
        "Apply the model to the train data\n",
        "\n",
        "Trained model is ready\n",
        "\n",
        "Test the trained model by the test data\n",
        "\n",
        "Print the evaluation metrics \"(regress=MSE,MAE,R2)\""
      ],
      "metadata": {
        "id": "JPG86DqdOCr3"
      }
    },
    {
      "cell_type": "code",
      "source": [
        "#Splitting  the data for Train  and Test.For this case,it was advised to use the train data.\n",
        "#Identify columns not needed for analysis\n",
        "#useless_col = ['hotel', 'days_in_waiting_list', 'arrival_date_year', 'arrival_date_year', 'assigned_room_type', 'booking_changes',\n",
        "#               #'reservation_status', 'country', 'days_in_waiting_list']\n",
        "\n",
        "#data_modelling = dcopy_new.drop(useless_col, axis = 1)\n",
        "# convert the 'Date' column to datetime format\n",
        "#data_modelling['reservation_status_date']= pd.to_datetime(data_modelling['reservation_status_date'])\n",
        "#data_modelling['year'] =data_modelling['reservation_status_date'].dt.strftime('%Y')\n",
        "#data_modelling['month'] = data_modelling['reservation_status_date'].dt.strftime('%m')\n",
        "#data_modelling['day'] = data_modelling['reservation_status_date'].dt.strftime('%d')\n",
        "\n",
        "from sklearn.model_selection import train_test_split\n",
        "#data_modelling= data_modelling.drop(['reservation_status_date','arrival_date_month'] , axis = 1)\n",
        "#data_modelling = dcopy_new.drop(useless_col, axis = 1)\n",
        "X=dcopy_new.drop('price_range',axis=1)\n",
        "y=dcopy_new['price_range']\n",
        "\n",
        "\n",
        "from sklearn.model_selection import train_test_split\n",
        "\n",
        "X_train, X_test, y_train, y_test = train_test_split(X, y, test_size=0.2, random_state=101)\n",
        "\n",
        "y = data_modelling['price_range']\n",
        "X1 = data_modelling.drop('price_range', axis = 1)\n",
        "X2 = pd.get_dummies(data_modelling)\n",
        "X_train1, X_test1, y_train1, y_test1 = train_test_split(X1,y,random_state=42,test_size=0.2)\n",
        "X_train2, X_test2, y_train2, y_test2 = train_test_split(X2,y,random_state=42,test_size=0.2)\n"
      ],
      "metadata": {
        "id": "-HCJTSxBOAb4"
      },
      "execution_count": null,
      "outputs": []
    },
    {
      "cell_type": "code",
      "source": [
        "from sklearn.preprocessing import MinMaxScaler\n",
        "scaler = MinMaxScaler()\n",
        "\n",
        "X_train = scaler.fit_transform(X_train)\n",
        "X_test = scaler.transform(X_test)"
      ],
      "metadata": {
        "id": "EP7sXoWdyf1t"
      },
      "execution_count": null,
      "outputs": []
    },
    {
      "cell_type": "code",
      "source": [
        "from sklearn.decomposition import PCA\n",
        "\n",
        "pca = PCA().fit(X_train)\n",
        "plt.plot(np.cumsum(pca.explained_variance_ratio_))\n",
        "plt.xlabel('number of components')\n",
        "plt.ylabel('cumulative explained variance');\n",
        "\n",
        "accum_explained_var = np.cumsum(pca.explained_variance_ratio_)\n",
        "\n",
        "min_threshold = np.argmax(accum_explained_var > 0.90) # use 90%-cannot be higher,unable to display"
      ],
      "metadata": {
        "colab": {
          "base_uri": "https://localhost:8080/",
          "height": 279
        },
        "id": "Un1GIAIEyl1a",
        "outputId": "cdd16850-27d4-4ad2-edff-0648ae85226b"
      },
      "execution_count": null,
      "outputs": [
        {
          "output_type": "display_data",
          "data": {
            "text/plain": [
              "<Figure size 432x288 with 1 Axes>"
            ],
            "image/png": "[encoded data removed]"
          },
          "metadata": {
            "needs_background": "light"
          }
        }
      ]
    },
    {
      "cell_type": "code",
      "source": [
        "min_threshold"
      ],
      "metadata": {
        "colab": {
          "base_uri": "https://localhost:8080/"
        },
        "id": "CATYoh33ys_h",
        "outputId": "e8552ab4-1275-48ae-80aa-10117e926cc0"
      },
      "execution_count": null,
      "outputs": [
        {
          "output_type": "execute_result",
          "data": {
            "text/plain": [
              "14"
            ]
          },
          "metadata": {},
          "execution_count": 82
        }
      ]
    },
    {
      "cell_type": "code",
      "source": [
        "pca = PCA(n_components = min_threshold + 1)\n",
        "\n",
        "X_train_projected= pca.fit_transform(X_train)\n",
        "X_test_projected = pca.transform(X_test)\n",
        "\n",
        "X_train_projected.shape"
      ],
      "metadata": {
        "colab": {
          "base_uri": "https://localhost:8080/"
        },
        "id": "8Nnh1pGRyvhO",
        "outputId": "0c9bd9d0-3f3c-4d63-c9c8-1150256f5287"
      },
      "execution_count": null,
      "outputs": [
        {
          "output_type": "execute_result",
          "data": {
            "text/plain": [
              "(1600, 15)"
            ]
          },
          "metadata": {},
          "execution_count": 83
        }
      ]
    },
    {
      "cell_type": "markdown",
      "source": [
        "Logistic Regression Classification without PCA\n",
        "\n",
        "```\n",
        "# This is formatted as code\n",
        "```\n",
        "\n"
      ],
      "metadata": {
        "id": "X7Uf7l6ly19m"
      }
    },
    {
      "cell_type": "code",
      "source": [
        "# Train the model\n",
        "\n",
        "# Train the model\n",
        "from sklearn.linear_model import LogisticRegression\n",
        "\n",
        "from sklearn.metrics import confusion_matrix, classification_report\n",
        "\n",
        "# Logistic Regression\n",
        "\n",
        "# without reduction\n",
        "logregwithoutpca = LogisticRegression()\n",
        "logregwithoutpca.fit(X_train, y_train)\n",
        "\n",
        "logregwithoutpca_result = logregwithoutpca.predict(X_test)#After training-need to perdict\n",
        "\n",
        "print('Accuracy of Logistic Regression (without PCA) on training set: {:.2f}'\n",
        "     .format(logregwithoutpca.score(X_train, y_train)))\n",
        "print('Accuracy of Logistic Regression (without PCA)  on testing set: {:.2f}'\n",
        "     .format(logregwithoutpca.score(X_test, y_test)))\n",
        "print('\\nConfusion matrix :\\n',confusion_matrix(y_test, logregwithoutpca_result))\n",
        "print('\\n\\nClassification report :\\n\\n', classification_report(y_test, logregwithoutpca_result))"
      ],
      "metadata": {
        "colab": {
          "base_uri": "https://localhost:8080/"
        },
        "id": "nzksGFRCy6XG",
        "outputId": "16ccfb88-9224-4284-e150-9bd4723601de"
      },
      "execution_count": null,
      "outputs": [
        {
          "output_type": "stream",
          "name": "stdout",
          "text": [
            "Accuracy of Logistic Regression (without PCA) on training set: 0.95\n",
            "Accuracy of Logistic Regression (without PCA)  on testing set: 0.91\n",
            "\n",
            "Confusion matrix :\n",
            " [[90  4  0  0]\n",
            " [ 5 93  4  0]\n",
            " [ 0 11 99 10]\n",
            " [ 0  0  1 83]]\n",
            "\n",
            "\n",
            "Classification report :\n",
            "\n",
            "               precision    recall  f1-score   support\n",
            "\n",
            "           0       0.95      0.96      0.95        94\n",
            "           1       0.86      0.91      0.89       102\n",
            "           2       0.95      0.82      0.88       120\n",
            "           3       0.89      0.99      0.94        84\n",
            "\n",
            "    accuracy                           0.91       400\n",
            "   macro avg       0.91      0.92      0.91       400\n",
            "weighted avg       0.92      0.91      0.91       400\n",
            "\n"
          ]
        }
      ]
    },
    {
      "cell_type": "markdown",
      "source": [
        "How Does RAM effect the price"
      ],
      "metadata": {
        "id": "naFzWvidv7Sw"
      }
    },
    {
      "cell_type": "code",
      "source": [
        "sns.jointplot(x='ram',y='price_range',data=dcopy_new,color='red',kind='kde');"
      ],
      "metadata": {
        "colab": {
          "base_uri": "https://localhost:8080/",
          "height": 441
        },
        "id": "UAd5_6n2v6Up",
        "outputId": "4d6e6ae8-0404-4e62-f840-5474adfc974c"
      },
      "execution_count": null,
      "outputs": [
        {
          "output_type": "display_data",
          "data": {
            "text/plain": [
              "<Figure size 432x432 with 3 Axes>"
            ],
            "image/png": "[encoded data removed]"
          },
          "metadata": {
            "needs_background": "light"
          }
        }
      ]
    },
    {
      "cell_type": "markdown",
      "source": [
        "# Internal Memory vs Price Range"
      ],
      "metadata": {
        "id": "_xHtd463w3A8"
      }
    },
    {
      "cell_type": "code",
      "source": [
        "sns.pointplot(y=\"int_memory\", x=\"price_range\", data=dcopy_new)"
      ],
      "metadata": {
        "colab": {
          "base_uri": "https://localhost:8080/",
          "height": 297
        },
        "id": "2_21f9H8wprT",
        "outputId": "c66805e5-380e-4352-a9fa-991c48cdff87"
      },
      "execution_count": null,
      "outputs": [
        {
          "output_type": "execute_result",
          "data": {
            "text/plain": [
              "<matplotlib.axes._subplots.AxesSubplot at 0x7f160f7b2ed0>"
            ]
          },
          "metadata": {},
          "execution_count": 77
        },
        {
          "output_type": "display_data",
          "data": {
            "text/plain": [
              "<Figure size 432x288 with 1 Axes>"
            ],
            "image/png": "[encoded data removed]"
          },
          "metadata": {
            "needs_background": "light"
          }
        }
      ]
    },
    {
      "cell_type": "markdown",
      "source": [
        "% of Phones which support 3G"
      ],
      "metadata": {
        "id": "0ny2JzgbxDlS"
      }
    },
    {
      "cell_type": "code",
      "source": [
        "labels = [\"3G-supported\",'Not supported']\n",
        "values=dcopy_new['three_g'].value_counts().values"
      ],
      "metadata": {
        "id": "ItkNDhZ1xMUl"
      },
      "execution_count": null,
      "outputs": []
    }
  ]
}